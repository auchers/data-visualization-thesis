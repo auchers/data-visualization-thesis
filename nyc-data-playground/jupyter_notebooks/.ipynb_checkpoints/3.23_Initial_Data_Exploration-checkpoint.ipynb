{
 "cells": [
  {
   "cell_type": "markdown",
   "metadata": {
    "toc": true
   },
   "source": [
    "<h1>Table of Contents<span class=\"tocSkip\"></span></h1>\n",
    "<div class=\"toc\"><ul class=\"toc-item\"><li><span><a href=\"#About-this-Data\" data-toc-modified-id=\"About-this-Data-1\"><span class=\"toc-item-num\">1&nbsp;&nbsp;</span>About this Data</a></span></li><li><span><a href=\"#Setup-MongoDB-Connection\" data-toc-modified-id=\"Setup-MongoDB-Connection-2\"><span class=\"toc-item-num\">2&nbsp;&nbsp;</span>Setup MongoDB Connection</a></span></li><li><span><a href=\"#Creating-a-dataframe-of-Manhattan-Buildings-(from-MongoDB)\" data-toc-modified-id=\"Creating-a-dataframe-of-Manhattan-Buildings-(from-MongoDB)-3\"><span class=\"toc-item-num\">3&nbsp;&nbsp;</span>Creating a dataframe of Manhattan Buildings (from MongoDB)</a></span></li><li><span><a href=\"#Data-Analysis\" data-toc-modified-id=\"Data-Analysis-4\"><span class=\"toc-item-num\">4&nbsp;&nbsp;</span>Data Analysis</a></span></li><li><span><a href=\"#Turning-to-Tableau\" data-toc-modified-id=\"Turning-to-Tableau-5\"><span class=\"toc-item-num\">5&nbsp;&nbsp;</span>Turning to Tableau</a></span><ul class=\"toc-item\"><li><ul class=\"toc-item\"><li><span><a href=\"#First-Note:-Multifamily-Residential-Buildings\" data-toc-modified-id=\"First-Note:-Multifamily-Residential-Buildings-5.0.1\"><span class=\"toc-item-num\">5.0.1&nbsp;&nbsp;</span>First Note: Multifamily Residential Buildings</a></span></li><li><span><a href=\"#Second-Note:-Public-Facilities-and-Institutions\" data-toc-modified-id=\"Second-Note:-Public-Facilities-and-Institutions-5.0.2\"><span class=\"toc-item-num\">5.0.2&nbsp;&nbsp;</span>Second Note: Public Facilities and Institutions</a></span></li></ul></li></ul></li></ul></div>"
   ]
  },
  {
   "cell_type": "markdown",
   "metadata": {},
   "source": [
    "# Initial Data Exploration \n",
    "March 23rd"
   ]
  },
  {
   "cell_type": "markdown",
   "metadata": {},
   "source": [
    "## About this Data"
   ]
  },
  {
   "cell_type": "markdown",
   "metadata": {},
   "source": [
    "**About This Data**: This dataset comes from New York City's public [PLUTO tax lot data](https://www1.nyc.gov/site/planning/data-maps/open-data/dwn-pluto-mappluto.page). These are geographic shapefiles for all 5 boroughs containing all of the lots in NYC as well as information about the building in the lot, the owner, the land use, location, age of building, height of building, etc. Full information regarding the properties of this dataset can be found in the [PLUTO Data Dictionary found here](https://www1.nyc.gov/assets/planning/download/pdf/data-maps/open-data/pluto_datadictionary.pdf?r=16v2).\n",
    "\n",
    "This Data was then converted to GeoJSON files (using [ogr2ogr](http://www.gdal.org/ogr2ogr.html)) and then imported into a local MongoDB database for easier management and querying."
   ]
  },
  {
   "cell_type": "markdown",
   "metadata": {},
   "source": [
    "## Setup MongoDB Connection"
   ]
  },
  {
   "cell_type": "code",
   "execution_count": 3,
   "metadata": {
    "collapsed": true
   },
   "outputs": [],
   "source": [
    "#load python dependencies\n",
    "import pandas as pd\n",
    "import pprint as pp\n",
    "import json\n",
    "import string\n",
    "from bson import json_util, ObjectId\n",
    "from pandas.io.json import json_normalize"
   ]
  },
  {
   "cell_type": "code",
   "execution_count": 5,
   "metadata": {
    "collapsed": true
   },
   "outputs": [],
   "source": [
    "#connect to mongodb\n",
    "from pymongo import MongoClient\n",
    "client = MongoClient()\n",
    "db = client.thesis #thesis is the name of the DB we want to access"
   ]
  },
  {
   "cell_type": "code",
   "execution_count": 6,
   "metadata": {},
   "outputs": [
    {
     "data": {
      "text/plain": [
       "['features', 'pluto']"
      ]
     },
     "execution_count": 6,
     "metadata": {},
     "output_type": "execute_result"
    }
   ],
   "source": [
    "# get the names of collections in MongoDB\n",
    "db.collection_names(include_system_collections=False)"
   ]
  },
  {
   "cell_type": "code",
   "execution_count": 7,
   "metadata": {
    "collapsed": true
   },
   "outputs": [],
   "source": [
    "features = db.features"
   ]
  },
  {
   "cell_type": "code",
   "execution_count": 8,
   "metadata": {
    "collapsed": true
   },
   "outputs": [
    {
     "name": "stdout",
     "output_type": "stream",
     "text": [
      "{'_id': ObjectId('5ab26407168e4a911bf9c754'),\n",
      " 'geometry': {'coordinates': [[[-74.00030834856233, 40.7481450543048],\n",
      "                               [-74.00064119170582, 40.74828487041532],\n",
      "                               [-74.00045799651024, 40.7485340197782],\n",
      "                               [-74.00012815525666, 40.748395452549445],\n",
      "                               [-74.00030834856233, 40.7481450543048]]],\n",
      "              'type': 'Polygon'},\n",
      " 'properties': {'APPBBL': 1007230041,\n",
      "                'APPDate': '11/30/2006',\n",
      "                'Address': '263 9 AVENUE',\n",
      "                'AreaSource': '2',\n",
      "                'AssessLand': 539990,\n",
      "                'AssessTot': 10493435,\n",
      "                'BBL': 1007237501,\n",
      "                'BldgArea': 89203,\n",
      "                'BldgClass': 'R4',\n",
      "                'BldgDepth': 100,\n",
      "                'BldgFront': 87,\n",
      "                'Block': 723,\n",
      "                'BoroCode': 1,\n",
      "                'Borough': 'MN',\n",
      "                'BsmtCode': '5',\n",
      "                'BuiltFAR': 9.03,\n",
      "                'CB2010': '6000',\n",
      "                'CD': 104,\n",
      "                'CT2010': '93',\n",
      "                'ComArea': 1408,\n",
      "                'CommFAR': 0,\n",
      "                'CondoNo': 1499,\n",
      "                'Council': 3,\n",
      "                'EDesigNum': None,\n",
      "                'Easements': 0,\n",
      "                'ExemptLand': 14204,\n",
      "                'ExemptTot': 16994,\n",
      "                'Ext': None,\n",
      "                'FIRM07_FLA': None,\n",
      "                'FacilFAR': 6.5,\n",
      "                'FactryArea': 0,\n",
      "                'FireComp': 'E003',\n",
      "                'GarageArea': 0,\n",
      "                'HealthArea': 5200,\n",
      "                'HealthCent': 15,\n",
      "                'HistDist': None,\n",
      "                'IrrLotCode': 'N',\n",
      "                'LandUse': '03',\n",
      "                'Landmark': None,\n",
      "                'Lot': 7501,\n",
      "                'LotArea': 9875,\n",
      "                'LotDepth': 100,\n",
      "                'LotFront': 98.75,\n",
      "                'LotType': '0',\n",
      "                'LtdHeight': None,\n",
      "                'MAPPLUTO_F': 7,\n",
      "                'NumBldgs': 1,\n",
      "                'NumFloors': 11,\n",
      "                'OfficeArea': 0,\n",
      "                'OtherArea': 0,\n",
      "                'Overlay1': 'C1-5',\n",
      "                'Overlay2': None,\n",
      "                'OwnerName': None,\n",
      "                'OwnerType': None,\n",
      "                'PFIRM15_FL': None,\n",
      "                'PLUTOMapID': '1',\n",
      "                'PolicePrct': 10,\n",
      "                'ProxCode': '0',\n",
      "                'ResArea': 87794,\n",
      "                'ResidFAR': 6.02,\n",
      "                'RetailArea': 0,\n",
      "                'SHAPE_Area': 10907.6399309,\n",
      "                'SHAPE_Leng': 417.764545296,\n",
      "                'SPDist1': None,\n",
      "                'SPDist2': None,\n",
      "                'SPDist3': None,\n",
      "                'Sanborn': '15S 008',\n",
      "                'SanitBoro': '2',\n",
      "                'SanitDistr': '04',\n",
      "                'SanitSub': None,\n",
      "                'SchoolDist': '02',\n",
      "                'SplitZone': 'N',\n",
      "                'StrgeArea': 1408,\n",
      "                'TaxMap': '10302',\n",
      "                'Tract2010': '0093',\n",
      "                'UnitsRes': 50,\n",
      "                'UnitsTotal': 50,\n",
      "                'Version': '17V1.1',\n",
      "                'XCoord': 984143,\n",
      "                'YCoord': 211916,\n",
      "                'YearAlter1': 0,\n",
      "                'YearAlter2': 0,\n",
      "                'YearBuilt': 1914,\n",
      "                'ZMCode': None,\n",
      "                'ZipCode': 10001,\n",
      "                'ZoneDist1': 'R8',\n",
      "                'ZoneDist2': None,\n",
      "                'ZoneDist3': None,\n",
      "                'ZoneDist4': None,\n",
      "                'ZoneMap': '8d'},\n",
      " 'type': 'Feature'}\n"
     ]
    }
   ],
   "source": [
    "# find one from Manhattan Borough\n",
    "pp.pprint(features.find_one({'properties.Borough':'MN'}))"
   ]
  },
  {
   "cell_type": "code",
   "execution_count": 9,
   "metadata": {
    "collapsed": true
   },
   "outputs": [],
   "source": [
    "# Specify fields wanted\n",
    "fields = {\"properties.Borough\" : 1,\n",
    "            \"properties.Address\" : 1,\n",
    "              \"properties.BldgArea\" : 1,\n",
    "              \"properties.BldgClass\" : 1,\n",
    "              \"properties.Block\" : 1,\n",
    "              \"properties.BoroCode\" : 1,\n",
    "              \"properties.LandUse\" : 1,\n",
    "              \"properties.LotArea\" : 1,\n",
    "              \"properties.NumFloors\" : 1,\n",
    "              \"properties.UnitsRes\" : 1,\n",
    "              \"properties.UnitsTotal\" : 1 ,\n",
    "              \"properties.OwnerName\" : 1,\n",
    "              \"properties.YearBuilt\": 1,\n",
    "              \"properties.YearAlter1\" : 1,\n",
    "              \"properties.CD\" : 1}\n",
    "            "
   ]
  },
  {
   "cell_type": "code",
   "execution_count": 10,
   "metadata": {
    "collapsed": true
   },
   "outputs": [
    {
     "data": {
      "text/plain": [
       "{'_id': ObjectId('5ab26407168e4a911bf9c754'),\n",
       " 'properties': {'Address': '263 9 AVENUE',\n",
       "  'BldgArea': 89203,\n",
       "  'BldgClass': 'R4',\n",
       "  'Block': 723,\n",
       "  'BoroCode': 1,\n",
       "  'Borough': 'MN',\n",
       "  'CD': 104,\n",
       "  'LandUse': '03',\n",
       "  'LotArea': 9875,\n",
       "  'NumFloors': 11,\n",
       "  'OwnerName': None,\n",
       "  'UnitsRes': 50,\n",
       "  'UnitsTotal': 50,\n",
       "  'YearAlter1': 0,\n",
       "  'YearBuilt': 1914}}"
      ]
     },
     "execution_count": 10,
     "metadata": {},
     "output_type": "execute_result"
    }
   ],
   "source": [
    "features.find_one({'properties.Borough':'MN'}, fields)"
   ]
  },
  {
   "cell_type": "markdown",
   "metadata": {},
   "source": [
    "## Creating a dataframe of Manhattan Buildings (from MongoDB)"
   ]
  },
  {
   "cell_type": "code",
   "execution_count": 11,
   "metadata": {
    "collapsed": true
   },
   "outputs": [],
   "source": [
    "def mongo_to_dataframe(mongo_data):\n",
    "\n",
    "        sanitized = json.loads(json_util.dumps(mongo_data))\n",
    "        \n",
    "        # unnests the json data\n",
    "        normalized = json_normalize(sanitized)\n",
    "        \n",
    "        #creates a data frame\n",
    "        df = pd.DataFrame(normalized)\n",
    "        \n",
    "        #cleans up column names\n",
    "        df.columns = df.columns.str.replace('properties.', '')\n",
    "\n",
    "        return df"
   ]
  },
  {
   "cell_type": "code",
   "execution_count": 13,
   "metadata": {
    "collapsed": true
   },
   "outputs": [],
   "source": [
    "df = mongo_to_dataframe(features.find({'properties.Borough':'MN'}, fields))"
   ]
  },
  {
   "cell_type": "code",
   "execution_count": 14,
   "metadata": {},
   "outputs": [
    {
     "name": "stdout",
     "output_type": "stream",
     "text": [
      "(42638, 16)\n"
     ]
    },
    {
     "data": {
      "text/html": [
       "<div>\n",
       "<style>\n",
       "    .dataframe thead tr:only-child th {\n",
       "        text-align: right;\n",
       "    }\n",
       "\n",
       "    .dataframe thead th {\n",
       "        text-align: left;\n",
       "    }\n",
       "\n",
       "    .dataframe tbody tr th {\n",
       "        vertical-align: top;\n",
       "    }\n",
       "</style>\n",
       "<table border=\"1\" class=\"dataframe\">\n",
       "  <thead>\n",
       "    <tr style=\"text-align: right;\">\n",
       "      <th></th>\n",
       "      <th>_id.$oid</th>\n",
       "      <th>Address</th>\n",
       "      <th>BldgArea</th>\n",
       "      <th>BldgClass</th>\n",
       "      <th>Block</th>\n",
       "      <th>BoroCode</th>\n",
       "      <th>Borough</th>\n",
       "      <th>CD</th>\n",
       "      <th>LandUse</th>\n",
       "      <th>LotArea</th>\n",
       "      <th>NumFloors</th>\n",
       "      <th>OwnerName</th>\n",
       "      <th>UnitsRes</th>\n",
       "      <th>UnitsTotal</th>\n",
       "      <th>YearAlter1</th>\n",
       "      <th>YearBuilt</th>\n",
       "    </tr>\n",
       "  </thead>\n",
       "  <tbody>\n",
       "    <tr>\n",
       "      <th>0</th>\n",
       "      <td>5ab26407168e4a911bf9c754</td>\n",
       "      <td>263 9 AVENUE</td>\n",
       "      <td>89203</td>\n",
       "      <td>R4</td>\n",
       "      <td>723</td>\n",
       "      <td>1</td>\n",
       "      <td>MN</td>\n",
       "      <td>104</td>\n",
       "      <td>03</td>\n",
       "      <td>9875</td>\n",
       "      <td>11.0</td>\n",
       "      <td>None</td>\n",
       "      <td>50</td>\n",
       "      <td>50</td>\n",
       "      <td>0</td>\n",
       "      <td>1914</td>\n",
       "    </tr>\n",
       "    <tr>\n",
       "      <th>1</th>\n",
       "      <td>5ab26407168e4a911bf9c755</td>\n",
       "      <td>1592 2 AVENUE</td>\n",
       "      <td>10885</td>\n",
       "      <td>C7</td>\n",
       "      <td>1545</td>\n",
       "      <td>1</td>\n",
       "      <td>MN</td>\n",
       "      <td>108</td>\n",
       "      <td>04</td>\n",
       "      <td>2767</td>\n",
       "      <td>5.0</td>\n",
       "      <td>LL 1592 SECOND AVENUE</td>\n",
       "      <td>16</td>\n",
       "      <td>18</td>\n",
       "      <td>1988</td>\n",
       "      <td>1920</td>\n",
       "    </tr>\n",
       "    <tr>\n",
       "      <th>2</th>\n",
       "      <td>5ab26407168e4a911bf9c756</td>\n",
       "      <td>310 EAST 109 STREET</td>\n",
       "      <td>12000</td>\n",
       "      <td>C1</td>\n",
       "      <td>1680</td>\n",
       "      <td>1</td>\n",
       "      <td>MN</td>\n",
       "      <td>111</td>\n",
       "      <td>02</td>\n",
       "      <td>2523</td>\n",
       "      <td>5.0</td>\n",
       "      <td>LA CASA NUESTRA HOUSI</td>\n",
       "      <td>10</td>\n",
       "      <td>10</td>\n",
       "      <td>1997</td>\n",
       "      <td>1910</td>\n",
       "    </tr>\n",
       "    <tr>\n",
       "      <th>3</th>\n",
       "      <td>5ab26407168e4a911bf9c757</td>\n",
       "      <td>720 PARK AVENUE</td>\n",
       "      <td>203490</td>\n",
       "      <td>D4</td>\n",
       "      <td>1385</td>\n",
       "      <td>1</td>\n",
       "      <td>MN</td>\n",
       "      <td>108</td>\n",
       "      <td>03</td>\n",
       "      <td>15062</td>\n",
       "      <td>17.0</td>\n",
       "      <td>720 PARK AVE CORP - B</td>\n",
       "      <td>29</td>\n",
       "      <td>32</td>\n",
       "      <td>1985</td>\n",
       "      <td>1928</td>\n",
       "    </tr>\n",
       "    <tr>\n",
       "      <th>4</th>\n",
       "      <td>5ab26407168e4a911bf9c758</td>\n",
       "      <td>181 GRAND STREET</td>\n",
       "      <td>2733</td>\n",
       "      <td>S2</td>\n",
       "      <td>236</td>\n",
       "      <td>1</td>\n",
       "      <td>MN</td>\n",
       "      <td>102</td>\n",
       "      <td>04</td>\n",
       "      <td>1425</td>\n",
       "      <td>3.0</td>\n",
       "      <td>GELSO 3 LLC</td>\n",
       "      <td>2</td>\n",
       "      <td>3</td>\n",
       "      <td>0</td>\n",
       "      <td>1910</td>\n",
       "    </tr>\n",
       "  </tbody>\n",
       "</table>\n",
       "</div>"
      ],
      "text/plain": [
       "                   _id.$oid              Address  BldgArea BldgClass  Block  \\\n",
       "0  5ab26407168e4a911bf9c754         263 9 AVENUE     89203        R4    723   \n",
       "1  5ab26407168e4a911bf9c755        1592 2 AVENUE     10885        C7   1545   \n",
       "2  5ab26407168e4a911bf9c756  310 EAST 109 STREET     12000        C1   1680   \n",
       "3  5ab26407168e4a911bf9c757      720 PARK AVENUE    203490        D4   1385   \n",
       "4  5ab26407168e4a911bf9c758     181 GRAND STREET      2733        S2    236   \n",
       "\n",
       "   BoroCode Borough   CD LandUse  LotArea  NumFloors              OwnerName  \\\n",
       "0         1      MN  104      03     9875       11.0                   None   \n",
       "1         1      MN  108      04     2767        5.0  LL 1592 SECOND AVENUE   \n",
       "2         1      MN  111      02     2523        5.0  LA CASA NUESTRA HOUSI   \n",
       "3         1      MN  108      03    15062       17.0  720 PARK AVE CORP - B   \n",
       "4         1      MN  102      04     1425        3.0            GELSO 3 LLC   \n",
       "\n",
       "   UnitsRes  UnitsTotal  YearAlter1  YearBuilt  \n",
       "0        50          50           0       1914  \n",
       "1        16          18        1988       1920  \n",
       "2        10          10        1997       1910  \n",
       "3        29          32        1985       1928  \n",
       "4         2           3           0       1910  "
      ]
     },
     "execution_count": 14,
     "metadata": {},
     "output_type": "execute_result"
    }
   ],
   "source": [
    "print(df.shape)\n",
    "df.head()"
   ]
  },
  {
   "cell_type": "markdown",
   "metadata": {
    "collapsed": true
   },
   "source": [
    "## Data Analysis"
   ]
  },
  {
   "cell_type": "code",
   "execution_count": 60,
   "metadata": {
    "collapsed": true
   },
   "outputs": [],
   "source": [
    "import seaborn as sns\n",
    "import matplotlib.pyplot as plt\n",
    "%matplotlib inline"
   ]
  },
  {
   "cell_type": "code",
   "execution_count": 51,
   "metadata": {
    "collapsed": true
   },
   "outputs": [],
   "source": [
    "landUseMapping = {\n",
    "  \"01\": {\"name\": \"One &Two Family Buildings\", \"color\": \"\"},\n",
    "  \"02\": {\"name\": \"Multi-Family Walk-Up Buildings\", \"color\": \"\"},\n",
    "  \"03\": {\"name\": \"Multi-Family Elevator Buildings\", \"color\": \"\"},\n",
    "  \"04\": {\"name\": \"Mixed Residential & Commercial Buildings\", \"color\": \"\"},\n",
    "  \"05\": {\"name\": \"Commercial & Office Buildings\", \"color\": \"\"},\n",
    "  \"06\": {\"name\": \"Industrial & Manufacturing\", \"color\": \"\"},\n",
    "  \"07\": {\"name\": \"Transportation & Utility\", \"color\": \"\"},\n",
    "  \"08\": {\"name\": \"Public Facilities & Institutions\", \"color\": \"\"},\n",
    "  \"09\": {\"name\": \"Open Space & Outdoor Recreation\", \"color\": \"\"},\n",
    "  \"10\": {\"name\": \"Parking Facilities\", \"color\": \"\"},\n",
    "  \"11\": {\"name\": \"Vacant Land\", \"color\": \"\"}\n",
    "}"
   ]
  },
  {
   "cell_type": "code",
   "execution_count": 15,
   "metadata": {},
   "outputs": [
    {
     "data": {
      "text/plain": [
       "['_id.$oid',\n",
       " 'Address',\n",
       " 'BldgArea',\n",
       " 'BldgClass',\n",
       " 'Block',\n",
       " 'BoroCode',\n",
       " 'Borough',\n",
       " 'CD',\n",
       " 'LandUse',\n",
       " 'LotArea',\n",
       " 'NumFloors',\n",
       " 'OwnerName',\n",
       " 'UnitsRes',\n",
       " 'UnitsTotal',\n",
       " 'YearAlter1',\n",
       " 'YearBuilt']"
      ]
     },
     "execution_count": 15,
     "metadata": {},
     "output_type": "execute_result"
    }
   ],
   "source": [
    "list(df)"
   ]
  },
  {
   "cell_type": "code",
   "execution_count": 55,
   "metadata": {},
   "outputs": [],
   "source": [
    "year_grouping = df.groupby(['YearBuilt', 'LandUse'], as_index= False)\\\n",
    "    .size()\\\n",
    "    .to_frame(name = 'count')\\\n",
    "    .reset_index()\n"
   ]
  },
  {
   "cell_type": "code",
   "execution_count": 72,
   "metadata": {
    "scrolled": true
   },
   "outputs": [],
   "source": [
    "year_grouping = year_grouping[year_grouping.YearBuilt > 0]"
   ]
  },
  {
   "cell_type": "code",
   "execution_count": 73,
   "metadata": {
    "collapsed": true
   },
   "outputs": [
    {
     "data": {
      "text/plain": [
       "[<matplotlib.lines.Line2D at 0x113ce4898>]"
      ]
     },
     "execution_count": 73,
     "metadata": {},
     "output_type": "execute_result"
    },
    {
     "data": {
      "image/png": "[encoded data removed]",
      "text/plain": [
       "<matplotlib.figure.Figure at 0x113d3ceb8>"
      ]
     },
     "metadata": {},
     "output_type": "display_data"
    }
   ],
   "source": [
    "fig, ax = plt.subplots()\n",
    "ax.plot(year_grouping.YearBuilt, year_grouping['count'])"
   ]
  },
  {
   "cell_type": "code",
   "execution_count": 74,
   "metadata": {
    "collapsed": true
   },
   "outputs": [
    {
     "data": {
      "image/png": "[encoded data removed]",
      "text/plain": [
       "<matplotlib.figure.Figure at 0x113c42278>"
      ]
     },
     "metadata": {},
     "output_type": "display_data"
    }
   ],
   "source": [
    "# Initialize a grid of plots with an Axes for each walk\n",
    "grid = sns.FacetGrid(year_grouping, col=\"LandUse\"\n",
    "                     , hue=\"LandUse\"\n",
    "                     , col_wrap=5\n",
    "                     , size=1.5)"
   ]
  },
  {
   "cell_type": "code",
   "execution_count": 75,
   "metadata": {
    "collapsed": true
   },
   "outputs": [
    {
     "ename": "ValueError",
     "evalue": "Axes instance argument was not found in a figure.",
     "output_type": "error",
     "traceback": [
      "\u001b[0;31m---------------------------------------------------------------------------\u001b[0m",
      "\u001b[0;31mValueError\u001b[0m                                Traceback (most recent call last)",
      "\u001b[0;32m<ipython-input-75-9d69dc54bbee>\u001b[0m in \u001b[0;36m<module>\u001b[0;34m()\u001b[0m\n\u001b[1;32m      1\u001b[0m \u001b[0;31m# Draw a line plot to show the trajectory of each random walk\u001b[0m\u001b[0;34m\u001b[0m\u001b[0;34m\u001b[0m\u001b[0m\n\u001b[0;32m----> 2\u001b[0;31m \u001b[0mgrid\u001b[0m\u001b[0;34m.\u001b[0m\u001b[0mmap\u001b[0m\u001b[0;34m(\u001b[0m\u001b[0mplt\u001b[0m\u001b[0;34m.\u001b[0m\u001b[0mplot\u001b[0m\u001b[0;34m,\u001b[0m \u001b[0;34m\"YearBuilt\"\u001b[0m\u001b[0;34m,\u001b[0m \u001b[0;34m\"count\"\u001b[0m\u001b[0;34m,\u001b[0m \u001b[0mmarker\u001b[0m\u001b[0;34m=\u001b[0m\u001b[0;34m\"o\"\u001b[0m\u001b[0;34m,\u001b[0m \u001b[0mms\u001b[0m\u001b[0;34m=\u001b[0m\u001b[0;36m4\u001b[0m\u001b[0;34m)\u001b[0m\u001b[0;34m\u001b[0m\u001b[0m\n\u001b[0m",
      "\u001b[0;32m/anaconda3/lib/python3.6/site-packages/seaborn/axisgrid.py\u001b[0m in \u001b[0;36mmap\u001b[0;34m(self, func, *args, **kwargs)\u001b[0m\n\u001b[1;32m    704\u001b[0m \u001b[0;34m\u001b[0m\u001b[0m\n\u001b[1;32m    705\u001b[0m             \u001b[0;31m# Get the current axis\u001b[0m\u001b[0;34m\u001b[0m\u001b[0;34m\u001b[0m\u001b[0m\n\u001b[0;32m--> 706\u001b[0;31m             \u001b[0max\u001b[0m \u001b[0;34m=\u001b[0m \u001b[0mself\u001b[0m\u001b[0;34m.\u001b[0m\u001b[0mfacet_axis\u001b[0m\u001b[0;34m(\u001b[0m\u001b[0mrow_i\u001b[0m\u001b[0;34m,\u001b[0m \u001b[0mcol_j\u001b[0m\u001b[0;34m)\u001b[0m\u001b[0;34m\u001b[0m\u001b[0m\n\u001b[0m\u001b[1;32m    707\u001b[0m \u001b[0;34m\u001b[0m\u001b[0m\n\u001b[1;32m    708\u001b[0m             \u001b[0;31m# Decide what color to plot with\u001b[0m\u001b[0;34m\u001b[0m\u001b[0;34m\u001b[0m\u001b[0m\n",
      "\u001b[0;32m/anaconda3/lib/python3.6/site-packages/seaborn/axisgrid.py\u001b[0m in \u001b[0;36mfacet_axis\u001b[0;34m(self, row_i, col_j)\u001b[0m\n\u001b[1;32m    835\u001b[0m \u001b[0;34m\u001b[0m\u001b[0m\n\u001b[1;32m    836\u001b[0m         \u001b[0;31m# Get a reference to the axes object we want, and make it active\u001b[0m\u001b[0;34m\u001b[0m\u001b[0;34m\u001b[0m\u001b[0m\n\u001b[0;32m--> 837\u001b[0;31m         \u001b[0mplt\u001b[0m\u001b[0;34m.\u001b[0m\u001b[0msca\u001b[0m\u001b[0;34m(\u001b[0m\u001b[0max\u001b[0m\u001b[0;34m)\u001b[0m\u001b[0;34m\u001b[0m\u001b[0m\n\u001b[0m\u001b[1;32m    838\u001b[0m         \u001b[0;32mreturn\u001b[0m \u001b[0max\u001b[0m\u001b[0;34m\u001b[0m\u001b[0m\n\u001b[1;32m    839\u001b[0m \u001b[0;34m\u001b[0m\u001b[0m\n",
      "\u001b[0;32m/anaconda3/lib/python3.6/site-packages/matplotlib/pyplot.py\u001b[0m in \u001b[0;36msca\u001b[0;34m(ax)\u001b[0m\n\u001b[1;32m    936\u001b[0m             \u001b[0mm\u001b[0m\u001b[0;34m.\u001b[0m\u001b[0mcanvas\u001b[0m\u001b[0;34m.\u001b[0m\u001b[0mfigure\u001b[0m\u001b[0;34m.\u001b[0m\u001b[0msca\u001b[0m\u001b[0;34m(\u001b[0m\u001b[0max\u001b[0m\u001b[0;34m)\u001b[0m\u001b[0;34m\u001b[0m\u001b[0m\n\u001b[1;32m    937\u001b[0m             \u001b[0;32mreturn\u001b[0m\u001b[0;34m\u001b[0m\u001b[0m\n\u001b[0;32m--> 938\u001b[0;31m     \u001b[0;32mraise\u001b[0m \u001b[0mValueError\u001b[0m\u001b[0;34m(\u001b[0m\u001b[0;34m\"Axes instance argument was not found in a figure.\"\u001b[0m\u001b[0;34m)\u001b[0m\u001b[0;34m\u001b[0m\u001b[0m\n\u001b[0m\u001b[1;32m    939\u001b[0m \u001b[0;34m\u001b[0m\u001b[0m\n\u001b[1;32m    940\u001b[0m \u001b[0;34m\u001b[0m\u001b[0m\n",
      "\u001b[0;31mValueError\u001b[0m: Axes instance argument was not found in a figure."
     ]
    }
   ],
   "source": [
    "# Draw a line plot to show the trajectory of each random walk\n",
    "# grid.map(plt.plot, \"YearBuilt\", \"count\", marker=\"o\", ms=4)"
   ]
  },
  {
   "cell_type": "markdown",
   "metadata": {},
   "source": [
    "## Turning to Tableau"
   ]
  },
  {
   "cell_type": "markdown",
   "metadata": {},
   "source": [
    "I decided to go back to my comfort zone of Tableau for some rapid prototyping to get a feel for how the data looks. I would have loved to continue purely in Python as I think that would show a higher degree of data wrangling mastery and I think that I will get back to it at some point. But specifically for tonight, as it is getting later, I wanted to get some quick intuition for what is happening with the PLUTO tax lot data. \n",
    "\n",
    "My initial questions for this round revolved around exploring the relationship between different land use developments over time. \n"
   ]
  },
  {
   "cell_type": "markdown",
   "metadata": {},
   "source": [
    "This first series looks at different land use classes over time. Here, each row is one land use and the x-axis is time ('YearBuilt' binned with 10 years per group). The line in each pane is representing the count of buildings in that time period, and the area behind it represents the sum of the building area during that period. Together they do show interesting patterns of development waxing and waning at different times. \n",
    "\n",
    "One thing to note here is that I grouped a few land use classes together for ease of reading. For example, I grouped *\"02\":\"Multi-Family Walk-Up Buildings\"* and *\"03\": \"Multi-Family Elevator Buildings\"* into 'Multifamily Residential.\" \n",
    "\n",
    "![](../assets/images/tableau-land-use-over-time.png)\n"
   ]
  },
  {
   "cell_type": "markdown",
   "metadata": {},
   "source": [
    "#### First Note: Multifamily Residential Buildings\n",
    "The following are some things I noted initially:\n",
    "* (pink-top) for the 'Multifamily Residential' (my grouped class), has 2 significant peaks of development and then it tends to trail off. I wonder what those periods are due to and if they also are showing something about two distinct regions of development. \n",
    "\n",
    "From there I started wondering if perhaps my grouping was too hasty and that maybe the two peaks were actually 1 for each multifamily residential type.\n",
    "![](../assets/images/tableau-multifamily-split.png)\n"
   ]
  },
  {
   "cell_type": "markdown",
   "metadata": {},
   "source": [
    "The top row shows land use class '02' (the walk up buildings) and the bottom row '03' (the elevator buildings). My hunch does seem to be semi-correct. The second peak I noticed earlier does now appear to be the rise of the elevator buildings as they replaced the walk-ups (very logical). \n",
    "\n",
    "Interesting to me is the first bump in the elevator class -- I wonder if the difference between the walkups and the elevator buildings can be explained by region. It is possible that certain wealthy regions started building elevator buildings while others were still developing walkups. Something to look more into at a later point should it prove relevant. \n",
    "\n",
    "![](../assets/images/tableau-land-use-over-time2.png)\n"
   ]
  },
  {
   "cell_type": "markdown",
   "metadata": {},
   "source": [
    "#### Second Note: Public Facilities and Institutions\n",
    "\n",
    "There is some interesting activity here as well as it seems that there were two great periods of development in Public Facilities and Institutions (one around 1900 and another around 1960). \n",
    "\n",
    "In 1900-1910 there were 381 buildings built (that still exist today! remember, we are always looking relative to our *current* urban landscape), taking up over 13.3 million square feet. When we look at building area (also known as total gross square feet, which includes stairwells, halls, elevator shafts, attics and extensions such as attached garages.) then we are looking at nearly 30 million square feet just in those 10 years.\n",
    "\n",
    "In the 1960's, there was another boom of public facility development with 175 buildings built, taking up nearly 8 million square feet in lot area, and nearly 23 million square feet of building area. This period seems mainly dominated by education centers, parks and hospitals. \n",
    "\n",
    "This makes me wonder about the following things: \n",
    "\n",
    "* What are these institutions -- from the area that they take up: I am sure that they are incredibly salient to us today. Pulling up a list of these, and sorting them by Lot Area, I am struck by the fact that most of them were either **educational facilities** (Columbia University) or **religious centers** (lots of churches).\n",
    "\n",
    "![](../assets/images/tableau-1900-public-facillities-list.png)\n",
    "\n",
    "* What was happening in the 1960s? Looking at the top buildings from that period showed a different composition of buildings. We still see a lot of Department of **Education** owned buildings, but now instead of religious centers, we are seeing more **parks** and **hospitals**. \n",
    "\n",
    "![](../assets/images/tableau-1960-public-facillities-list.png)\n",
    "\n",
    "\n",
    "* Looking purely at the counts of buildings (see below), there seems to be a kind of **waning periodicity** at play where every **40 years** there is another peak, but over time these peaks are decreasing. This decrease also makes sense, since as time passes, more and more land is developed and less needs to be build. \n",
    "\n",
    "![](../assets/images/tableau-public-facillities-over-time-cnts.png)\n",
    "\n",
    "* Currently what is happening? First one on the list is owned by DASNY -- John Jay College of Criminal Justice. Mostly **education** still and **cultural centers, like museums**\n",
    "\n",
    "**DASNY** - \"The Dormitory Authority of the State of New York provides construction, financing, and allied services which help provide the foundation for the healthy, educated and resilient communities that make New York thrive.\"\n",
    "\n",
    "\n",
    "![](../assets/images/tableau-2010-public-facillities-list.png)\n"
   ]
  },
  {
   "cell_type": "markdown",
   "metadata": {},
   "source": [
    "![](../assets/images/tableau-land-use-over-time2-vertical.png)\n",
    "\n",
    "#### Third Note: Commercial Buildings\n",
    "\n",
    "Big difference between LotArea and Building Area"
   ]
  },
  {
   "cell_type": "markdown",
   "metadata": {},
   "source": [
    "![](../assets/images/tableau-land-use.png)"
   ]
  },
  {
   "cell_type": "markdown",
   "metadata": {},
   "source": [
    "![](../assets/images/tableau-land-use-%-of total.png)"
   ]
  },
  {
   "cell_type": "markdown",
   "metadata": {},
   "source": [
    "![](../assets/images/tableau-land-use-stacked-bar.png)"
   ]
  },
  {
   "cell_type": "code",
   "execution_count": null,
   "metadata": {
    "collapsed": true
   },
   "outputs": [],
   "source": []
  }
 ],
 "metadata": {
  "kernelspec": {
   "display_name": "Python 3",
   "language": "python",
   "name": "python3"
  },
  "language_info": {
   "codemirror_mode": {
    "name": "ipython",
    "version": 3
   },
   "file_extension": ".py",
   "mimetype": "text/x-python",
   "name": "python",
   "nbconvert_exporter": "python",
   "pygments_lexer": "ipython3",
   "version": "3.6.3"
  },
  "toc": {
   "nav_menu": {},
   "number_sections": true,
   "sideBar": true,
   "skip_h1_title": true,
   "title_cell": "Table of Contents",
   "title_sidebar": "Contents",
   "toc_cell": true,
   "toc_position": {},
   "toc_section_display": true,
   "toc_window_display": false
  }
 },
 "nbformat": 4,
 "nbformat_minor": 2
}
