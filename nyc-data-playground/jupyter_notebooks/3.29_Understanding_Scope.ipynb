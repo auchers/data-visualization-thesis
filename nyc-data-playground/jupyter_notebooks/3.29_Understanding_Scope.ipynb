{
 "cells": [
  {
   "cell_type": "markdown",
   "metadata": {
    "toc": true
   },
   "source": [
    "<h1>Table of Contents<span class=\"tocSkip\"></span></h1>\n",
    "<div class=\"toc\"><ul class=\"toc-item\"><li><span><a href=\"#Learning-Goals\" data-toc-modified-id=\"Learning-Goals-1\"><span class=\"toc-item-num\">1&nbsp;&nbsp;</span>Learning Goals</a></span></li><li><span><a href=\"#Abstract-from-Mockup\" data-toc-modified-id=\"Abstract-from-Mockup-2\"><span class=\"toc-item-num\">2&nbsp;&nbsp;</span>Abstract from Mockup</a></span></li><li><span><a href=\"#Additional-Attempt-at-Abstract\" data-toc-modified-id=\"Additional-Attempt-at-Abstract-3\"><span class=\"toc-item-num\">3&nbsp;&nbsp;</span>Additional Attempt at Abstract</a></span></li><li><span><a href=\"#Attempt-at-a-Table-of-Contents-for-Written-Thesis\" data-toc-modified-id=\"Attempt-at-a-Table-of-Contents-for-Written-Thesis-4\"><span class=\"toc-item-num\">4&nbsp;&nbsp;</span>Attempt at a Table of Contents for Written Thesis</a></span></li><li><span><a href=\"#Stories-to-Show-in-this-framework\" data-toc-modified-id=\"Stories-to-Show-in-this-framework-5\"><span class=\"toc-item-num\">5&nbsp;&nbsp;</span>Stories to Show in this framework</a></span></li><li><span><a href=\"#Images-Appendix\" data-toc-modified-id=\"Images-Appendix-6\"><span class=\"toc-item-num\">6&nbsp;&nbsp;</span>Images Appendix</a></span></li><li><span><a href=\"#Main-Themes-(that-I-hope-to-explore):\" data-toc-modified-id=\"Main-Themes-(that-I-hope-to-explore):-7\"><span class=\"toc-item-num\">7&nbsp;&nbsp;</span>Main Themes (that I hope to explore):</a></span></li></ul></div>"
   ]
  },
  {
   "cell_type": "markdown",
   "metadata": {},
   "source": [
    "The way I see it now, I have **two directions** with which I could explore this thesis conceptually. \n",
    "\n",
    "1. One is to take a very abstract conceptual approach with NY infrastructure merely as a use case for trying to explore conceptual metaphor in visual and mental representations. This would focus on the nature of topics and how we transition between different visual modalities and how to build those in the clearest way while maintaining connection to the grounded concept. \n",
    "\n",
    "2. The other option is to make this thesis about the history of NY infrastructure -- promoting the subject matter to the front and treating it as the topic in its own right and not a vehicle for exploring something else. This I think has the potential to be more meaningful for a user, but also requires more domain knowledge that I am a bit unclear about whether I will be able to acquire in time for this thesis. I also don't know how to full spell this out -- would it be about patterns of development in the history of NY buildings, or something more akin to a historic survey of zoning and the effects on subsequent building. \n",
    "\n",
    "3. (?) is there a third way to go about this while still supporting my learning goals for this project?"
   ]
  },
  {
   "cell_type": "markdown",
   "metadata": {},
   "source": [
    "To answer this, i think it would be best to explicitly lay out my Learning Goals for this project so that I am able to consistently re-calibrate to make sure I am heading in the direction I want to. At this stage in this process, I am trying to be very explicit with myself regarding what I hope to get out of it. Anything above this would be a pleasant emergent phenomenon. \n",
    "\n",
    "### Learning Goals\n",
    "\n",
    "1. Prove to myself that I can accomplish this type of project\n",
    "2. Master a UI framework (Vue or React)\n",
    "3. Build clean, elegant, and stable code\n",
    "4. Create an intuitive and robust data flow - Master on the fly data changes and calculations (async queries)\n",
    "5. Make something beautiful \n",
    "6. Focus on clarity throughout mapping and narrative transitions\n",
    "7. Explore a variety of data representations"
   ]
  },
  {
   "cell_type": "markdown",
   "metadata": {},
   "source": [
    "### Abstract from Mockup\n",
    "\n",
    "> My goal in this project is to explore the current built landscape of New York City form the perspective of when these buildings were built. The idea is to look at periods and patterns of development and how they came together to form the city we know and live in today. Period and Patterns of development refers to looking at the land use types over time and exploring what areas (both spatially, and temporally) embodied different types of development. \n",
    "\n"
   ]
  },
  {
   "cell_type": "markdown",
   "metadata": {},
   "source": [
    "### Additional Attempt at Abstract\n",
    "\n",
    "> The goal of this project is to explore the built infrastructure of New York City from the perspective of the periods and patterns of development that formed the landscape we know and live in today. As such, the subject matter for this thesis will be data representing contemporary NYC buildings. Being a Data Visualization Masters thesis, this project will also be concerned heavily with *representations of this data as a secondary explicit subject matter*. To that effect, this thesis will be exploring how to best communicate different trends in Urbanism from spatial, temporal, aggregative (both discrete and continuous), and particular instance level views. Specifically, throughout these representational explorations, there will arise questions of which types of representations are better suited for which types of information. This thesis will consist of revisiting the same data set from a variety of angles as such will hone in on which questions arise at each representational stage as well as how to best address them."
   ]
  },
  {
   "cell_type": "markdown",
   "metadata": {},
   "source": [
    "### Attempt at a Table of Contents for Written Thesis\n",
    "\n",
    "Multi-layered subject matter. On surface layer, looking at NYC infrastructure. At deeper level, modes of representation, both visual and conceptual. \n",
    "\n",
    "\n",
    "1. Introduction -- Current NYC Infrastructure and Re-mapping focus\n",
    "2. Background and History\n",
    "    1. Evolution of NYC Zoning\n",
    "2. Data and Treatment\n",
    "    1. Data source - PLUTO + methods for cleaning and storing\n",
    "    2. Treatment\n",
    "        1. What is meant by 'ReMapping' in this case\n",
    "            1. Mapping as Knowledge Making\n",
    "            2. Mapping as Abstraction\n",
    "            3. Mapping as Representation (de-naturalizing spatial map as epistemologically privileged) \n",
    "            4. Conceptual Metaphor Theory\n",
    "        2. Mapping NYC (discussion on stages and their significances)\n",
    "            1. **Step 1**: Where Am I - Spatial Map\n",
    "                1. trends that are observable from this view\n",
    "            2. **Step 2**: Spatial -> Aggregate Discrete Bins\n",
    "            3. **Step 3**: Discrete -> Continuous + Time Metaphor Swap\n",
    "                1. What is gained/lost in the move to continuous (for discrete series)\n",
    "                    1. is there anything that can truly be captured continuously?\n",
    "                    2. Zeno's Paradox\n",
    "                1. discussion of time metaphors (progression 'forward' vs. progression 'down'/'through' time)\n",
    "            4. **Step 4**: Segmentation by Land Uses\n",
    "            5. **Step 5**: Aggregate -> Particular Instances\n",
    "            6. **Step 6**: Metric Switch (# buildings > Area of buildings)\n",
    "                1. what is really happening here: conceptually mapping a new target domain to the same source domain\n",
    "3. Takeaways and Conclusions\n",
    "    1. interesting parallel between the particular -> aggregative mapping and the history of zoning in NYC (how the collective interest was suddenly taken into account when there was a realization that private interests wouldn't address it)\n",
    "4. Next Steps and Limitations\n",
    "5. Conclusion\n",
    "            "
   ]
  },
  {
   "cell_type": "markdown",
   "metadata": {},
   "source": [
    "### Stories to Show in this framework\n",
    "\n",
    "Equitable Building > Beginning of Zoning\n",
    "\n",
    "Audrey Marie Munson > mapping her impact on architecture of NYC -- maybe sort from this [data](http://www.andreageyer.info/projects/audrey_munson/munson_notebooks/munson_thisSiteofMemory.htm)"
   ]
  },
  {
   "cell_type": "markdown",
   "metadata": {},
   "source": [
    "### Images Appendix\n",
    "![](../assets/process_screenshots/IMG_2959.JPG)"
   ]
  },
  {
   "cell_type": "markdown",
   "metadata": {},
   "source": [
    "### Main Themes (that I hope to explore): \n",
    "\n",
    "* part-whole aggregations -- both at the level of NYC Zoning history, as well as in the Viz itself\n",
    "* concept of 'mapping' and 're-mapping' -- again, both conceptual and literal\n",
    "* privatism vs collectivism -- also coming to play with the part-whole --> is there a way to make this more explicit?"
   ]
  },
  {
   "cell_type": "markdown",
   "metadata": {},
   "source": [
    "**Colophon / Musings**\n",
    "\n",
    "I see myself being very tied to this concept of 'exploration.' I think I am more comfortable with that because it is agnostic regarding stance. I think a big part of this process is learning to feel comfortable with my voice as a valuable contribution. I immediately assume that anything I may have to contribute is at best trivial, and at worst fundamentally wrong. I think this concept of exploration lets me have some space to 'explore' (for lack of a better word) in a safe way without having to commit to/ and therefore have to defend my ideas. \n",
    "\n",
    "That seems like a fundamental problem - that I am so afraid of having to defend my ideas and then to be proven wrong. Even though in this case, if I am proved wrong then I just take it, learn from it, and incorporate that into my work. I cannot deny however that currently I have a very strong aversion to being in that situation. "
   ]
  },
  {
   "cell_type": "code",
   "execution_count": null,
   "metadata": {
    "collapsed": true
   },
   "outputs": [],
   "source": []
  }
 ],
 "metadata": {
  "kernelspec": {
   "display_name": "Python 3",
   "language": "python",
   "name": "python3"
  },
  "language_info": {
   "codemirror_mode": {
    "name": "ipython",
    "version": 3
   },
   "file_extension": ".py",
   "mimetype": "text/x-python",
   "name": "python",
   "nbconvert_exporter": "python",
   "pygments_lexer": "ipython3",
   "version": "3.6.3"
  },
  "toc": {
   "nav_menu": {},
   "number_sections": true,
   "sideBar": true,
   "skip_h1_title": true,
   "title_cell": "Table of Contents",
   "title_sidebar": "Contents",
   "toc_cell": true,
   "toc_position": {},
   "toc_section_display": true,
   "toc_window_display": false
  }
 },
 "nbformat": 4,
 "nbformat_minor": 2
}
