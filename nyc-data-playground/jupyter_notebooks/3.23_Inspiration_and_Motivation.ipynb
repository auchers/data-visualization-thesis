{
 "cells": [
  {
   "cell_type": "markdown",
   "metadata": {
    "toc": true
   },
   "source": [
    "<h1>Table of Contents<span class=\"tocSkip\"></span></h1>\n",
    "<div class=\"toc\"><ul class=\"toc-item\"><li><ul class=\"toc-item\"><li><span><a href=\"#Eye-on-New-York-City\" data-toc-modified-id=\"Eye-on-New-York-City-0.1\"><span class=\"toc-item-num\">0.1&nbsp;&nbsp;</span>Eye on New York City</a></span></li><li><span><a href=\"#Research-Questions\" data-toc-modified-id=\"Research-Questions-0.2\"><span class=\"toc-item-num\">0.2&nbsp;&nbsp;</span>Research Questions</a></span></li></ul></li><li><span><a href=\"#A-Note-on-Process\" data-toc-modified-id=\"A-Note-on-Process-1\"><span class=\"toc-item-num\">1&nbsp;&nbsp;</span>A Note on Process</a></span></li></ul></div>"
   ]
  },
  {
   "cell_type": "markdown",
   "metadata": {},
   "source": [
    "# Thesis Exploration\n",
    "\n",
    "March 23rd"
   ]
  },
  {
   "cell_type": "markdown",
   "metadata": {},
   "source": [
    "For this thesis, I am interested in looking at the built infrastructure in New York City from the lens of historic changes to land use over time. As of now, I plan to take spatial data representing NYC and, instead of plotting all the buildings on a map, to plot them according to the year that they were built. From here, I would like to explore trends development by looking at the land and building classes over time. "
   ]
  },
  {
   "cell_type": "markdown",
   "metadata": {
    "collapsed": true
   },
   "source": [
    "What sparked this interest was a podcast episode from '99% Invisible' called ['Public Works: Rethinking America's Transportation Infrastructure'](https://99percentinvisible.org/episode/public-works-rethinking-americas-transportation-infrastructure). In this episode, the creators of the podcast interviewed Henry Petroski, a professor of civil engineering and history at Duke University, who noted that (my empasis added):\n",
    ">\"while the concept of infrastructure is universal our current use of word itself is actually relatively new. In America, *the old phrase “public works” became associated with pork barrel spending and fell out of favor in the latter half of the 20th century.* Politicians had developed a reputation for swapping favors and funds for support on public works legislation, trading votes and cash to get things done.\""
   ]
  },
  {
   "cell_type": "markdown",
   "metadata": {},
   "source": [
    "Prior to that, 'Public Works' were things to be celebrated and embraced by the community. People would wait eagerly for the opening of bridge knowing that it was a resource they all contributed to that would benefit them all. \n",
    "\n",
    "They felt a sense of ownership and pride in it. \n",
    "\n",
    "![](../assets/images/golden-gate-bridge-1.jpg)\n",
    "![](../assets/images/golden-gate-bridge-3.jpg)\n",
    "\n",
    "Images from the San Francisco Chronicle and found [here](http://allthatsinteresting.com/golden-gate-bridge-opening-photos) of the opening of the Golden Gate Bridge.\n"
   ]
  },
  {
   "cell_type": "markdown",
   "metadata": {},
   "source": [
    "This is remarkable to me now as it seems times have changed so drastically. My motivation for this thesis was to explore this contested and resigned concept of 'Public Works' and to explore whether that was something we could re-establish in our current social and political environment. \n",
    "\n",
    "Learning about these things I feel a great loss. Loss in the sense of pride in our community, the sense of social responsibility, and loss in the sense of joy and excitement from something big and new that would bring benefit to so many. "
   ]
  },
  {
   "cell_type": "markdown",
   "metadata": {},
   "source": [
    "### Eye on New York City\n",
    "Moving to New York in the summer of 2017, I was struck by the amount of Public Works that form such an integral part of the city. Prior to moving here, I had always thought of New Yorks as the peak of individualistic capitalistic gluttony and was incredibly surprised by the amount of philanthropy, community events, and genuine concern for human beings. \n",
    "\n",
    "It is very possible that this is highlighted due to the overwhelming rat race mentality ever present in the undercurrents of most peoples' day to day interactions. It is rather this backdrop of personal capital maximization that *emphasized* the significance of these public works for me.\n",
    "\n",
    "New York would be unrecognizable without it world renowned museums (many like the Met functioning with a 'pay what you can' cost of admission), the subway, not to mention Central Park. These are resources that have been built, maintained and loved by locals and tourists alike and they are some of the strongest fibers in the fabric that is New York City. "
   ]
  },
  {
   "cell_type": "markdown",
   "metadata": {},
   "source": [
    "### Research Questions\n",
    "\n",
    "Now I would like to look more closely and critically at this trend that I felt intuitively during my first few days here. In this thesis, I hope to start looking at the following questions and hopefully the list will grow as I go deeper and deeper into this work. \n",
    "\n",
    "* Out of this existing urban landscape, how much of it really is intended for public benefit?\n",
    "* When were all of these public resources first built? Have they been updated/altered?\n",
    "* What have we been building recently? How have the building priorities shifted in recent years?\n",
    "* Are there clear patterns that emerge in the urban landscape as different political agendas ebb and flow?\n"
   ]
  },
  {
   "cell_type": "markdown",
   "metadata": {},
   "source": [
    "---------------------\n",
    "## A Note on Process\n",
    "This one year thesis has been a whirlwind of learning new techniques, skill and perspectives and now as it is winding down I have found myself questioning both what I have, and what I am capable of achieving. Instead of struggling with these sensations, I have decided to own them, acknowledge them, and even document them as I work through the personal, emotional, and technical challenges of this thesis. \n",
    "\n",
    "What is in these notebooks will be what is going through my head at a given point in time and as such will track the chronology of my own personal built infrastructure as I explore that of New York City's. Later these may be edited together to create a more complete and coherent whole, but for now, the goal is rather to capture these fragmented and discrete moments in time. I see it as my personal process mimicking my subject domain matter."
   ]
  }
 ],
 "metadata": {
  "kernelspec": {
   "display_name": "Python 3",
   "language": "python",
   "name": "python3"
  },
  "language_info": {
   "codemirror_mode": {
    "name": "ipython",
    "version": 3
   },
   "file_extension": ".py",
   "mimetype": "text/x-python",
   "name": "python",
   "nbconvert_exporter": "python",
   "pygments_lexer": "ipython3",
   "version": "3.6.3"
  },
  "toc": {
   "nav_menu": {},
   "number_sections": true,
   "sideBar": true,
   "skip_h1_title": true,
   "title_cell": "Table of Contents",
   "title_sidebar": "Contents",
   "toc_cell": true,
   "toc_position": {},
   "toc_section_display": true,
   "toc_window_display": false
  }
 },
 "nbformat": 4,
 "nbformat_minor": 2
}
