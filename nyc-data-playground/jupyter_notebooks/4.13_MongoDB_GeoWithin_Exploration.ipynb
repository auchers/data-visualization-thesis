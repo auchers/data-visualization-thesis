{
 "cells": [
  {
   "cell_type": "markdown",
   "metadata": {
    "toc": true
   },
   "source": [
    "<h1>Table of Contents<span class=\"tocSkip\"></span></h1>\n",
    "<div class=\"toc\"><ul class=\"toc-item\"><li><span><a href=\"#Setup-MongoDB-Connection\" data-toc-modified-id=\"Setup-MongoDB-Connection-1\"><span class=\"toc-item-num\">1&nbsp;&nbsp;</span>Setup MongoDB Connection</a></span></li><li><span><a href=\"#Creating-a-dataframe-of-Manhattan-Buildings-(from-MongoDB)\" data-toc-modified-id=\"Creating-a-dataframe-of-Manhattan-Buildings-(from-MongoDB)-2\"><span class=\"toc-item-num\">2&nbsp;&nbsp;</span>Creating a dataframe of Manhattan Buildings (from MongoDB)</a></span></li><li><span><a href=\"#Data-Analysis\" data-toc-modified-id=\"Data-Analysis-3\"><span class=\"toc-item-num\">3&nbsp;&nbsp;</span>Data Analysis</a></span><ul class=\"toc-item\"><li><span><a href=\"#KMeans--Clustering\" data-toc-modified-id=\"KMeans--Clustering-3.1\"><span class=\"toc-item-num\">3.1&nbsp;&nbsp;</span>KMeans  Clustering</a></span></li><li><span><a href=\"#Try-Kmodes---to-cluster-on-categorical-variables\" data-toc-modified-id=\"Try-Kmodes---to-cluster-on-categorical-variables-3.2\"><span class=\"toc-item-num\">3.2&nbsp;&nbsp;</span>Try <a href=\"https://github.com/nicodv/kmodes\" target=\"_blank\">Kmodes</a> - to cluster on categorical variables</a></span></li><li><span><a href=\"#Guassian-Mixture-Models\" data-toc-modified-id=\"Guassian-Mixture-Models-3.3\"><span class=\"toc-item-num\">3.3&nbsp;&nbsp;</span>Guassian Mixture Models</a></span></li></ul></li></ul></div>"
   ]
  },
  {
   "cell_type": "markdown",
   "metadata": {},
   "source": [
    "# K-Means Clustering of NYC Pluto Data\n",
    "April 4th"
   ]
  },
  {
   "cell_type": "markdown",
   "metadata": {},
   "source": [
    "## Setup MongoDB Connection"
   ]
  },
  {
   "cell_type": "code",
   "execution_count": 1,
   "metadata": {
    "collapsed": true
   },
   "outputs": [],
   "source": [
    "#load python dependencies\n",
    "import pandas as pd\n",
    "import pprint as pp\n",
    "import json\n",
    "import string\n",
    "from bson import json_util, ObjectId\n",
    "from pandas.io.json import json_normalize\n",
    "import math"
   ]
  },
  {
   "cell_type": "code",
   "execution_count": 2,
   "metadata": {
    "collapsed": true
   },
   "outputs": [],
   "source": [
    "#connect to mongodb\n",
    "from pymongo import MongoClient\n",
    "client = MongoClient()\n",
    "db = client.thesis #thesis is the name of the DB we want to access"
   ]
  },
  {
   "cell_type": "code",
   "execution_count": 3,
   "metadata": {},
   "outputs": [
    {
     "data": {
      "text/plain": [
       "['buildings', 'buildings_with_lots', 'lots_with_buffer', 'green_roofs']"
      ]
     },
     "execution_count": 3,
     "metadata": {},
     "output_type": "execute_result"
    }
   ],
   "source": [
    "# get the names of collections in MongoDB\n",
    "db.collection_names(include_system_collections=False)"
   ]
  },
  {
   "cell_type": "code",
   "execution_count": 6,
   "metadata": {
    "collapsed": true
   },
   "outputs": [],
   "source": [
    "buildings = db.buildings"
   ]
  },
  {
   "cell_type": "code",
   "execution_count": 12,
   "metadata": {},
   "outputs": [
    {
     "name": "stdout",
     "output_type": "stream",
     "text": [
      "{'_id': ObjectId('5ad118e98ebfd6b85610509d'),\n",
      " 'geometry': {'coordinates': [[[-74.00339983290745, 40.73940048154231],\n",
      "                               [-74.00340650854376, 40.739391313279995],\n",
      "                               [-74.00341807222367, 40.739375430689684],\n",
      "                               [-74.00342963234664, 40.73935955350131],\n",
      "                               [-74.00343501167893, 40.739352164678394],\n",
      "                               [-74.00358002094784, 40.7394132461763],\n",
      "                               [-74.00359789020935, 40.73942077296012],\n",
      "                               [-74.00359230963855, 40.73942843735214],\n",
      "                               [-74.00355702913141, 40.739476894745856],\n",
      "                               [-74.00355608206651, 40.73947819510768],\n",
      "                               [-74.00355819422352, 40.739479084743664],\n",
      "                               [-74.00361921593162, 40.739504787823364],\n",
      "                               [-74.00364594443116, 40.73946807599871],\n",
      "                               [-74.00366102285288, 40.73944736565313],\n",
      "                               [-74.00382699905458, 40.73951727834651],\n",
      "                               [-74.00381356381895, 40.739535731087436],\n",
      "                               [-74.00377852254903, 40.73958385985519],\n",
      "                               [-74.00374351792719, 40.73963193818239],\n",
      "                               [-74.00370849549743, 40.73968004171338],\n",
      "                               [-74.00367345881091, 40.739728161443004],\n",
      "                               [-74.00366519210591, 40.73973951530216],\n",
      "                               [-74.00366406628069, 40.73974106240949],\n",
      "                               [-74.00366367088044, 40.73974160542797],\n",
      "                               [-74.00366273565226, 40.73974289048162],\n",
      "                               [-74.00366095635094, 40.73974533451492],\n",
      "                               [-74.003658099761, 40.7397492572154],\n",
      "                               [-74.00365197880423, 40.739747862523906],\n",
      "                               [-74.00365033194724, 40.739747487064584],\n",
      "                               [-74.0036487679659, 40.73974713051326],\n",
      "                               [-74.00364673751321, 40.73974666771683],\n",
      "                               [-74.0035665305112, 40.739728387229334],\n",
      "                               [-74.00321879448998, 40.739649131219906],\n",
      "                               [-74.00323000429067, 40.739633734032374],\n",
      "                               [-74.00327072012804, 40.73957781318115],\n",
      "                               [-74.00328463142587, 40.73955870672183],\n",
      "                               [-74.00328946740831, 40.739552065342444],\n",
      "                               [-74.00329250869024, 40.739547887802146],\n",
      "                               [-74.00329483493336, 40.73954469273574],\n",
      "                               [-74.00329677879637, 40.73954202357643],\n",
      "                               [-74.00330666976545, 40.739528438239645],\n",
      "                               [-74.00333795148252, 40.73948547413356],\n",
      "                               [-74.00337468590264, 40.73943502033966],\n",
      "                               [-74.00338052457501, 40.73942700205127],\n",
      "                               [-74.00338232045175, 40.739424533707975],\n",
      "                               [-74.00338607202265, 40.739419381795386],\n",
      "                               [-74.00339498037333, 40.73940714634015],\n",
      "                               [-74.00339983290745, 40.73940048154231]]],\n",
      "              'type': 'Polygon'},\n",
      " 'properties': {'bin': 1011714,\n",
      "                'cnstrct_yr': 1964,\n",
      "                'date_lstmo': '2017/08/22',\n",
      "                'doitt_id': 320925,\n",
      "                'feat_code': 2100,\n",
      "                'groundelev': 25,\n",
      "                'heightroof': 59.42707374,\n",
      "                'lststatype': 'Constructed',\n",
      "                'name': None,\n",
      "                'shape_area': 13198.5108353092,\n",
      "                'shape_len': 519.37584402857,\n",
      "                'time_lstmo': '00:00:00.000'},\n",
      " 'type': 'Feature'}\n"
     ]
    }
   ],
   "source": [
    "# spatial join test for 1 building\n",
    "for doc in buildings.find(\n",
    "    {\n",
    "        \"geometry\": {\n",
    "            \"$geoWithin\": {\n",
    "                \"$geometry\" : {\n",
    "                    \"type\" : \"Polygon\",\n",
    "                     \"coordinates\" : [[[-74.00357149780405, 40.739750787571296],\n",
    "                                       [-74.0032138954338,40.739665780439516],\n",
    "                                       [-74.00320789710163,40.73966326774744],\n",
    "                                       [-74.00320302205861,40.73965896338152],\n",
    "                                       [-74.00319978576269,40.73965332245971],\n",
    "                                       [-74.00319853040044,40.73964694141936],\n",
    "                                       [-74.00319938870638,40.73964049495356],\n",
    "                                       [-74.00320226992835,40.739634664673105],\n",
    "                                       [-74.003246500287,40.739573008751414],\n",
    "                                       [-74.00329109205792,40.73951084620651],\n",
    "                                       [-74.00333404285205,40.73945097146967],\n",
    "                                       [-74.00338030113019,40.73938648904522],\n",
    "                                       [-74.00342944759335,40.73931797523731],\n",
    "                                       [-74.00343423237918,40.739313246099265],\n",
    "                                       [-74.00344031457,40.73931037105544],\n",
    "                                       [-74.0034470059823,40.739309675409295],\n",
    "                                       [-74.00345354950082,40.73931123787133],\n",
    "                                       [-74.00384894205064,40.73947998532931],\n",
    "                                       [-74.0038540011946,40.73948310469541],\n",
    "                                       [-74.00385792023364,40.73948757308611],\n",
    "                                       [-74.00386035306389,40.73949299588239],\n",
    "                                       [-74.00386108483369,40.73949889417837],\n",
    "                                       [-74.00386005091791,40.739504747075145],\n",
    "                                       [-74.00385734262522,40.73951003768317],\n",
    "                                       [-74.00367437802153,40.739765098595996],\n",
    "                                       [-74.00367015922609,40.7397694166797],\n",
    "                                       [-74.00366484415729,40.73977227921798],\n",
    "                                       [-74.00365891707212,40.739773425404394],\n",
    "                                       [-74.00365291798853,40.739772750809664],\n",
    "                                       [-74.00357149780405,40.739750787571296]]]\n",
    "                }\n",
    "            }\n",
    "        }\n",
    "    }\n",
    "):\n",
    "    pp.pprint(doc)\n",
    "    "
   ]
  },
  {
   "cell_type": "code",
   "execution_count": null,
   "metadata": {
    "collapsed": true
   },
   "outputs": [],
   "source": []
  },
  {
   "cell_type": "code",
   "execution_count": 5,
   "metadata": {
    "collapsed": true
   },
   "outputs": [],
   "source": [
    "# Specify fields wanted\n",
    "fields = {\"properties.Borough\" : 1,\n",
    "            \"properties.Address\" : 1,\n",
    "              \"properties.BldgArea\" : 1,\n",
    "              \"properties.BldgClass\" : 1,\n",
    "              \"properties.Block\" : 1,\n",
    "              \"properties.BoroCode\" : 1,\n",
    "              \"properties.LandUse\" : 1,\n",
    "              \"properties.LotArea\" : 1,\n",
    "              \"properties.NumFloors\" : 1,\n",
    "              \"properties.UnitsRes\" : 1,\n",
    "              \"properties.UnitsTotal\" : 1 ,\n",
    "              \"properties.OwnerName\" : 1,\n",
    "              \"properties.YearBuilt\": 1,\n",
    "              \"properties.CD\" : 1,\n",
    "              \"properties.ResidFAR\": 1,\n",
    "              \"properties.FacilFAR\": 1, \n",
    "              \"properties.BuiltFAR\": 1,\n",
    "              \"properties.CommFAR\": 1,\n",
    "              \"properties.Landmark\": 1,\n",
    "              \"properties.UnitsTotal\": 1,\n",
    "              \"properties.AssessTot\": 1\n",
    "          \n",
    "         }\n",
    "            "
   ]
  },
  {
   "cell_type": "code",
   "execution_count": null,
   "metadata": {
    "collapsed": true
   },
   "outputs": [],
   "source": []
  },
  {
   "cell_type": "code",
   "execution_count": 8,
   "metadata": {
    "scrolled": true
   },
   "outputs": [
    {
     "data": {
      "text/plain": [
       "{'_id': ObjectId('5ab26407168e4a911bf9c754'),\n",
       " 'properties': {'Address': '263 9 AVENUE',\n",
       "  'AssessTot': 10493435,\n",
       "  'BldgArea': 89203,\n",
       "  'BldgClass': 'R4',\n",
       "  'Block': 723,\n",
       "  'BoroCode': 1,\n",
       "  'Borough': 'MN',\n",
       "  'BuiltFAR': 9.03,\n",
       "  'CD': 104,\n",
       "  'FacilFAR': 6.5,\n",
       "  'LandUse': '03',\n",
       "  'Landmark': None,\n",
       "  'LotArea': 9875,\n",
       "  'NumFloors': 11,\n",
       "  'OwnerName': None,\n",
       "  'ResidFAR': 6.02,\n",
       "  'UnitsRes': 50,\n",
       "  'UnitsTotal': 50,\n",
       "  'YearBuilt': 1914}}"
      ]
     },
     "execution_count": 8,
     "metadata": {},
     "output_type": "execute_result"
    }
   ],
   "source": [
    "features.find_one({'properties.Borough':'MN'}, fields)"
   ]
  },
  {
   "cell_type": "markdown",
   "metadata": {},
   "source": [
    "## Creating a dataframe of Manhattan Buildings (from MongoDB)"
   ]
  },
  {
   "cell_type": "code",
   "execution_count": 6,
   "metadata": {
    "collapsed": true
   },
   "outputs": [],
   "source": [
    "def mongo_to_dataframe(mongo_data):\n",
    "\n",
    "        sanitized = json.loads(json_util.dumps(mongo_data))\n",
    "        \n",
    "        # unnests the json data\n",
    "        normalized = json_normalize(sanitized)\n",
    "        \n",
    "        #creates a data frame\n",
    "        df = pd.DataFrame(normalized)\n",
    "        \n",
    "        #cleans up column names\n",
    "        df.columns = df.columns.str.replace('properties.', '')\n",
    "\n",
    "        return df"
   ]
  },
  {
   "cell_type": "code",
   "execution_count": 9,
   "metadata": {
    "collapsed": true
   },
   "outputs": [],
   "source": [
    "df = mongo_to_dataframe(features.find({'properties.Borough':'MN'}, fields))"
   ]
  },
  {
   "cell_type": "code",
   "execution_count": 1,
   "metadata": {
    "collapsed": true
   },
   "outputs": [
    {
     "ename": "NameError",
     "evalue": "name 'df' is not defined",
     "output_type": "error",
     "traceback": [
      "\u001b[0;31m---------------------------------------------------------------------------\u001b[0m",
      "\u001b[0;31mNameError\u001b[0m                                 Traceback (most recent call last)",
      "\u001b[0;32m<ipython-input-1-25dc6c27e6fd>\u001b[0m in \u001b[0;36m<module>\u001b[0;34m()\u001b[0m\n\u001b[0;32m----> 1\u001b[0;31m \u001b[0mprint\u001b[0m\u001b[0;34m(\u001b[0m\u001b[0mdf\u001b[0m\u001b[0;34m.\u001b[0m\u001b[0mshape\u001b[0m\u001b[0;34m)\u001b[0m\u001b[0;34m\u001b[0m\u001b[0m\n\u001b[0m\u001b[1;32m      2\u001b[0m \u001b[0mdf\u001b[0m\u001b[0;34m.\u001b[0m\u001b[0mhead\u001b[0m\u001b[0;34m(\u001b[0m\u001b[0;34m)\u001b[0m\u001b[0;34m\u001b[0m\u001b[0m\n",
      "\u001b[0;31mNameError\u001b[0m: name 'df' is not defined"
     ]
    }
   ],
   "source": [
    "print(df.shape)\n",
    "df.head()"
   ]
  },
  {
   "cell_type": "code",
   "execution_count": null,
   "metadata": {
    "collapsed": true
   },
   "outputs": [],
   "source": []
  }
 ],
 "metadata": {
  "kernelspec": {
   "display_name": "Python 3",
   "language": "python",
   "name": "python3"
  },
  "language_info": {
   "codemirror_mode": {
    "name": "ipython",
    "version": 3
   },
   "file_extension": ".py",
   "mimetype": "text/x-python",
   "name": "python",
   "nbconvert_exporter": "python",
   "pygments_lexer": "ipython3",
   "version": "3.6.3"
  },
  "toc": {
   "nav_menu": {},
   "number_sections": true,
   "sideBar": true,
   "skip_h1_title": true,
   "title_cell": "Table of Contents",
   "title_sidebar": "Contents",
   "toc_cell": true,
   "toc_position": {},
   "toc_section_display": true,
   "toc_window_display": false
  }
 },
 "nbformat": 4,
 "nbformat_minor": 2
}
