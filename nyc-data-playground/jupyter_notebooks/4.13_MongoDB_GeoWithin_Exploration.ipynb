{
 "cells": [
  {
   "cell_type": "markdown",
   "metadata": {
    "toc": true
   },
   "source": [
    "<h1>Table of Contents<span class=\"tocSkip\"></span></h1>\n",
    "<div class=\"toc\"><ul class=\"toc-item\"><li><span><a href=\"#Setup-MongoDB-Connection\" data-toc-modified-id=\"Setup-MongoDB-Connection-1\"><span class=\"toc-item-num\">1&nbsp;&nbsp;</span>Setup MongoDB Connection</a></span></li><li><span><a href=\"#Creating-a-dataframe-of-Manhattan-Buildings-(from-MongoDB)\" data-toc-modified-id=\"Creating-a-dataframe-of-Manhattan-Buildings-(from-MongoDB)-2\"><span class=\"toc-item-num\">2&nbsp;&nbsp;</span>Creating a dataframe of Manhattan Buildings (from MongoDB)</a></span></li></ul></div>"
   ]
  },
  {
   "cell_type": "markdown",
   "metadata": {},
   "source": [
    "# K-Means Clustering of NYC Pluto Data\n",
    "April 4th"
   ]
  },
  {
   "cell_type": "markdown",
   "metadata": {},
   "source": [
    "## Setup MongoDB Connection"
   ]
  },
  {
   "cell_type": "code",
   "execution_count": 16,
   "metadata": {
    "collapsed": true
   },
   "outputs": [],
   "source": [
    "#load python dependencies\n",
    "import pandas as pd\n",
    "import pprint as pp\n",
    "import json\n",
    "import string\n",
    "from bson import json_util, ObjectId\n",
    "from pandas.io.json import json_normalize\n",
    "import math\n",
    "%matplotlib inline\n",
    "import matplotlib.pyplot as plt"
   ]
  },
  {
   "cell_type": "code",
   "execution_count": 2,
   "metadata": {
    "collapsed": true
   },
   "outputs": [],
   "source": [
    "#connect to mongodb\n",
    "from pymongo import MongoClient\n",
    "client = MongoClient()\n",
    "db = client.thesis #thesis is the name of the DB we want to access"
   ]
  },
  {
   "cell_type": "code",
   "execution_count": 3,
   "metadata": {},
   "outputs": [
    {
     "data": {
      "text/plain": [
       "['buildings',\n",
       " 'buildings_with_lots2',\n",
       " 'buildings_with_lots',\n",
       " 'lots_with_buffer',\n",
       " 'green_roofs']"
      ]
     },
     "execution_count": 3,
     "metadata": {},
     "output_type": "execute_result"
    }
   ],
   "source": [
    "# get the names of collections in MongoDB\n",
    "db.collection_names(include_system_collections=False)"
   ]
  },
  {
   "cell_type": "code",
   "execution_count": 4,
   "metadata": {
    "collapsed": true
   },
   "outputs": [],
   "source": [
    "buildings = db.buildings"
   ]
  },
  {
   "cell_type": "code",
   "execution_count": 12,
   "metadata": {},
   "outputs": [
    {
     "name": "stdout",
     "output_type": "stream",
     "text": [
      "{'_id': ObjectId('5ad118e98ebfd6b85610509d'),\n",
      " 'geometry': {'coordinates': [[[-74.00339983290745, 40.73940048154231],\n",
      "                               [-74.00340650854376, 40.739391313279995],\n",
      "                               [-74.00341807222367, 40.739375430689684],\n",
      "                               [-74.00342963234664, 40.73935955350131],\n",
      "                               [-74.00343501167893, 40.739352164678394],\n",
      "                               [-74.00358002094784, 40.7394132461763],\n",
      "                               [-74.00359789020935, 40.73942077296012],\n",
      "                               [-74.00359230963855, 40.73942843735214],\n",
      "                               [-74.00355702913141, 40.739476894745856],\n",
      "                               [-74.00355608206651, 40.73947819510768],\n",
      "                               [-74.00355819422352, 40.739479084743664],\n",
      "                               [-74.00361921593162, 40.739504787823364],\n",
      "                               [-74.00364594443116, 40.73946807599871],\n",
      "                               [-74.00366102285288, 40.73944736565313],\n",
      "                               [-74.00382699905458, 40.73951727834651],\n",
      "                               [-74.00381356381895, 40.739535731087436],\n",
      "                               [-74.00377852254903, 40.73958385985519],\n",
      "                               [-74.00374351792719, 40.73963193818239],\n",
      "                               [-74.00370849549743, 40.73968004171338],\n",
      "                               [-74.00367345881091, 40.739728161443004],\n",
      "                               [-74.00366519210591, 40.73973951530216],\n",
      "                               [-74.00366406628069, 40.73974106240949],\n",
      "                               [-74.00366367088044, 40.73974160542797],\n",
      "                               [-74.00366273565226, 40.73974289048162],\n",
      "                               [-74.00366095635094, 40.73974533451492],\n",
      "                               [-74.003658099761, 40.7397492572154],\n",
      "                               [-74.00365197880423, 40.739747862523906],\n",
      "                               [-74.00365033194724, 40.739747487064584],\n",
      "                               [-74.0036487679659, 40.73974713051326],\n",
      "                               [-74.00364673751321, 40.73974666771683],\n",
      "                               [-74.0035665305112, 40.739728387229334],\n",
      "                               [-74.00321879448998, 40.739649131219906],\n",
      "                               [-74.00323000429067, 40.739633734032374],\n",
      "                               [-74.00327072012804, 40.73957781318115],\n",
      "                               [-74.00328463142587, 40.73955870672183],\n",
      "                               [-74.00328946740831, 40.739552065342444],\n",
      "                               [-74.00329250869024, 40.739547887802146],\n",
      "                               [-74.00329483493336, 40.73954469273574],\n",
      "                               [-74.00329677879637, 40.73954202357643],\n",
      "                               [-74.00330666976545, 40.739528438239645],\n",
      "                               [-74.00333795148252, 40.73948547413356],\n",
      "                               [-74.00337468590264, 40.73943502033966],\n",
      "                               [-74.00338052457501, 40.73942700205127],\n",
      "                               [-74.00338232045175, 40.739424533707975],\n",
      "                               [-74.00338607202265, 40.739419381795386],\n",
      "                               [-74.00339498037333, 40.73940714634015],\n",
      "                               [-74.00339983290745, 40.73940048154231]]],\n",
      "              'type': 'Polygon'},\n",
      " 'properties': {'bin': 1011714,\n",
      "                'cnstrct_yr': 1964,\n",
      "                'date_lstmo': '2017/08/22',\n",
      "                'doitt_id': 320925,\n",
      "                'feat_code': 2100,\n",
      "                'groundelev': 25,\n",
      "                'heightroof': 59.42707374,\n",
      "                'lststatype': 'Constructed',\n",
      "                'name': None,\n",
      "                'shape_area': 13198.5108353092,\n",
      "                'shape_len': 519.37584402857,\n",
      "                'time_lstmo': '00:00:00.000'},\n",
      " 'type': 'Feature'}\n"
     ]
    }
   ],
   "source": [
    "# spatial join test for 1 building\n",
    "for doc in buildings.find(\n",
    "    {\n",
    "        \"geometry\": {\n",
    "            \"$geoWithin\": {\n",
    "                \"$geometry\" : {\n",
    "                    \"type\" : \"Polygon\",\n",
    "                     \"coordinates\" : [[[-74.00357149780405, 40.739750787571296],\n",
    "                                       [-74.0032138954338,40.739665780439516],\n",
    "                                       [-74.00320789710163,40.73966326774744],\n",
    "                                       [-74.00320302205861,40.73965896338152],\n",
    "                                       [-74.00319978576269,40.73965332245971],\n",
    "                                       [-74.00319853040044,40.73964694141936],\n",
    "                                       [-74.00319938870638,40.73964049495356],\n",
    "                                       [-74.00320226992835,40.739634664673105],\n",
    "                                       [-74.003246500287,40.739573008751414],\n",
    "                                       [-74.00329109205792,40.73951084620651],\n",
    "                                       [-74.00333404285205,40.73945097146967],\n",
    "                                       [-74.00338030113019,40.73938648904522],\n",
    "                                       [-74.00342944759335,40.73931797523731],\n",
    "                                       [-74.00343423237918,40.739313246099265],\n",
    "                                       [-74.00344031457,40.73931037105544],\n",
    "                                       [-74.0034470059823,40.739309675409295],\n",
    "                                       [-74.00345354950082,40.73931123787133],\n",
    "                                       [-74.00384894205064,40.73947998532931],\n",
    "                                       [-74.0038540011946,40.73948310469541],\n",
    "                                       [-74.00385792023364,40.73948757308611],\n",
    "                                       [-74.00386035306389,40.73949299588239],\n",
    "                                       [-74.00386108483369,40.73949889417837],\n",
    "                                       [-74.00386005091791,40.739504747075145],\n",
    "                                       [-74.00385734262522,40.73951003768317],\n",
    "                                       [-74.00367437802153,40.739765098595996],\n",
    "                                       [-74.00367015922609,40.7397694166797],\n",
    "                                       [-74.00366484415729,40.73977227921798],\n",
    "                                       [-74.00365891707212,40.739773425404394],\n",
    "                                       [-74.00365291798853,40.739772750809664],\n",
    "                                       [-74.00357149780405,40.739750787571296]]]\n",
    "                }\n",
    "            }\n",
    "        }\n",
    "    }\n",
    "):\n",
    "    pp.pprint(doc)\n",
    "    "
   ]
  },
  {
   "cell_type": "code",
   "execution_count": null,
   "metadata": {
    "collapsed": true
   },
   "outputs": [],
   "source": []
  },
  {
   "cell_type": "code",
   "execution_count": 5,
   "metadata": {
    "collapsed": true
   },
   "outputs": [],
   "source": [
    "# Specify fields wanted\n",
    "fields = {\"properties.Borough\" : 1,\n",
    "            \"properties.Address\" : 1,\n",
    "              \"properties.BldgArea\" : 1,\n",
    "              \"properties.BldgClass\" : 1,\n",
    "              \"properties.Block\" : 1,\n",
    "              \"properties.BoroCode\" : 1,\n",
    "              \"properties.LandUse\" : 1,\n",
    "              \"properties.LotArea\" : 1,\n",
    "              \"properties.NumFloors\" : 1,\n",
    "              \"properties.UnitsRes\" : 1,\n",
    "              \"properties.UnitsTotal\" : 1 ,\n",
    "              \"properties.OwnerName\" : 1,\n",
    "              \"properties.YearBuilt\": 1,\n",
    "              \"properties.CD\" : 1,\n",
    "              \"properties.ResidFAR\": 1,\n",
    "              \"properties.FacilFAR\": 1, \n",
    "              \"properties.BuiltFAR\": 1,\n",
    "              \"properties.CommFAR\": 1,\n",
    "              \"properties.Landmark\": 1,\n",
    "              \"properties.UnitsTotal\": 1,\n",
    "              \"properties.AssessTot\": 1\n",
    "          \n",
    "         }\n",
    "            "
   ]
  },
  {
   "cell_type": "code",
   "execution_count": null,
   "metadata": {
    "collapsed": true
   },
   "outputs": [],
   "source": []
  },
  {
   "cell_type": "code",
   "execution_count": 5,
   "metadata": {
    "scrolled": true
   },
   "outputs": [
    {
     "data": {
      "text/plain": [
       "{'_id': ObjectId('5ad118ce8ebfd6b85609fd79'),\n",
       " 'geometry': {'coordinates': [[[-73.81023637428497, 40.72623326367574],\n",
       "    [-73.8104754062957, 40.726207121109255],\n",
       "    [-73.81047566519004, 40.726253437521216],\n",
       "    [-73.8102359806574, 40.72627713682691],\n",
       "    [-73.81023631162273, 40.72624030466856],\n",
       "    [-73.81023637428497, 40.72623326367574]]],\n",
       "  'type': 'Polygon'},\n",
       " 'properties': {'bin': 4441987,\n",
       "  'cnstrct_yr': 1993,\n",
       "  'date_lstmo': '2017/12/19',\n",
       "  'doitt_id': 1283366,\n",
       "  'feat_code': 2100,\n",
       "  'groundelev': 70,\n",
       "  'heightroof': 21.54,\n",
       "  'lststatype': 'Constructed',\n",
       "  'name': None,\n",
       "  'shape_area': 1089.81231261407,\n",
       "  'shape_len': 166.78592889092,\n",
       "  'time_lstmo': '00:00:00.000'},\n",
       " 'type': 'Feature'}"
      ]
     },
     "execution_count": 5,
     "metadata": {},
     "output_type": "execute_result"
    }
   ],
   "source": [
    "buildings.find_one({})"
   ]
  },
  {
   "cell_type": "markdown",
   "metadata": {},
   "source": [
    "## Creating a dataframe of Manhattan Buildings (from MongoDB)"
   ]
  },
  {
   "cell_type": "code",
   "execution_count": 6,
   "metadata": {
    "collapsed": true
   },
   "outputs": [],
   "source": [
    "def mongo_to_dataframe(mongo_data):\n",
    "\n",
    "        sanitized = json.loads(json_util.dumps(mongo_data))\n",
    "        \n",
    "        # unnests the json data\n",
    "        normalized = json_normalize(sanitized)\n",
    "        \n",
    "        #creates a data frame\n",
    "        df = pd.DataFrame(normalized)\n",
    "        \n",
    "        #cleans up column names\n",
    "        df.columns = df.columns.str.replace('properties.', '')\n",
    "\n",
    "        return df"
   ]
  },
  {
   "cell_type": "code",
   "execution_count": 7,
   "metadata": {
    "collapsed": true
   },
   "outputs": [],
   "source": [
    "df = mongo_to_dataframe(buildings.find({}, {\"properties\": 1}))"
   ]
  },
  {
   "cell_type": "code",
   "execution_count": 8,
   "metadata": {},
   "outputs": [
    {
     "name": "stdout",
     "output_type": "stream",
     "text": [
      "(1082789, 13)\n"
     ]
    },
    {
     "data": {
      "text/html": [
       "<div>\n",
       "<style>\n",
       "    .dataframe thead tr:only-child th {\n",
       "        text-align: right;\n",
       "    }\n",
       "\n",
       "    .dataframe thead th {\n",
       "        text-align: left;\n",
       "    }\n",
       "\n",
       "    .dataframe tbody tr th {\n",
       "        vertical-align: top;\n",
       "    }\n",
       "</style>\n",
       "<table border=\"1\" class=\"dataframe\">\n",
       "  <thead>\n",
       "    <tr style=\"text-align: right;\">\n",
       "      <th></th>\n",
       "      <th>_id.$oid</th>\n",
       "      <th>bin</th>\n",
       "      <th>cnstrct_yr</th>\n",
       "      <th>date_lstmo</th>\n",
       "      <th>doitt_id</th>\n",
       "      <th>feat_code</th>\n",
       "      <th>groundelev</th>\n",
       "      <th>heightroof</th>\n",
       "      <th>lststatype</th>\n",
       "      <th>name</th>\n",
       "      <th>shape_area</th>\n",
       "      <th>shape_len</th>\n",
       "      <th>time_lstmo</th>\n",
       "    </tr>\n",
       "  </thead>\n",
       "  <tbody>\n",
       "    <tr>\n",
       "      <th>0</th>\n",
       "      <td>5ad118ce8ebfd6b85609fd79</td>\n",
       "      <td>4441987</td>\n",
       "      <td>1993</td>\n",
       "      <td>2017/12/19</td>\n",
       "      <td>1283366</td>\n",
       "      <td>2100</td>\n",
       "      <td>70</td>\n",
       "      <td>21.540000</td>\n",
       "      <td>Constructed</td>\n",
       "      <td>None</td>\n",
       "      <td>1089.812313</td>\n",
       "      <td>166.785929</td>\n",
       "      <td>00:00:00.000</td>\n",
       "    </tr>\n",
       "    <tr>\n",
       "      <th>1</th>\n",
       "      <td>5ad118ce8ebfd6b85609fd7a</td>\n",
       "      <td>4518072</td>\n",
       "      <td>1920</td>\n",
       "      <td>2017/08/17</td>\n",
       "      <td>964744</td>\n",
       "      <td>5110</td>\n",
       "      <td>6</td>\n",
       "      <td>16.381832</td>\n",
       "      <td>Constructed</td>\n",
       "      <td>None</td>\n",
       "      <td>329.898503</td>\n",
       "      <td>77.673856</td>\n",
       "      <td>00:00:00.000</td>\n",
       "    </tr>\n",
       "    <tr>\n",
       "      <th>2</th>\n",
       "      <td>5ad118ce8ebfd6b85609fd7b</td>\n",
       "      <td>4299860</td>\n",
       "      <td>1940</td>\n",
       "      <td>2017/08/22</td>\n",
       "      <td>547717</td>\n",
       "      <td>2100</td>\n",
       "      <td>8</td>\n",
       "      <td>26.795523</td>\n",
       "      <td>Constructed</td>\n",
       "      <td>None</td>\n",
       "      <td>1234.856322</td>\n",
       "      <td>146.929814</td>\n",
       "      <td>00:00:00.000</td>\n",
       "    </tr>\n",
       "    <tr>\n",
       "      <th>3</th>\n",
       "      <td>5ad118ce8ebfd6b85609fd7c</td>\n",
       "      <td>4466247</td>\n",
       "      <td>1938</td>\n",
       "      <td>2017/08/22</td>\n",
       "      <td>306940</td>\n",
       "      <td>2100</td>\n",
       "      <td>8</td>\n",
       "      <td>16.415098</td>\n",
       "      <td>Constructed</td>\n",
       "      <td>None</td>\n",
       "      <td>921.325068</td>\n",
       "      <td>124.996900</td>\n",
       "      <td>00:00:00.000</td>\n",
       "    </tr>\n",
       "    <tr>\n",
       "      <th>4</th>\n",
       "      <td>5ad118ce8ebfd6b85609fd7d</td>\n",
       "      <td>4300452</td>\n",
       "      <td>1960</td>\n",
       "      <td>2017/08/22</td>\n",
       "      <td>511264</td>\n",
       "      <td>2100</td>\n",
       "      <td>15</td>\n",
       "      <td>26.772577</td>\n",
       "      <td>Constructed</td>\n",
       "      <td>None</td>\n",
       "      <td>1373.848534</td>\n",
       "      <td>158.799758</td>\n",
       "      <td>00:00:00.000</td>\n",
       "    </tr>\n",
       "  </tbody>\n",
       "</table>\n",
       "</div>"
      ],
      "text/plain": [
       "                   _id.$oid      bin  cnstrct_yr  date_lstmo  doitt_id  \\\n",
       "0  5ad118ce8ebfd6b85609fd79  4441987        1993  2017/12/19   1283366   \n",
       "1  5ad118ce8ebfd6b85609fd7a  4518072        1920  2017/08/17    964744   \n",
       "2  5ad118ce8ebfd6b85609fd7b  4299860        1940  2017/08/22    547717   \n",
       "3  5ad118ce8ebfd6b85609fd7c  4466247        1938  2017/08/22    306940   \n",
       "4  5ad118ce8ebfd6b85609fd7d  4300452        1960  2017/08/22    511264   \n",
       "\n",
       "   feat_code  groundelev  heightroof   lststatype  name   shape_area  \\\n",
       "0       2100          70   21.540000  Constructed  None  1089.812313   \n",
       "1       5110           6   16.381832  Constructed  None   329.898503   \n",
       "2       2100           8   26.795523  Constructed  None  1234.856322   \n",
       "3       2100           8   16.415098  Constructed  None   921.325068   \n",
       "4       2100          15   26.772577  Constructed  None  1373.848534   \n",
       "\n",
       "    shape_len    time_lstmo  \n",
       "0  166.785929  00:00:00.000  \n",
       "1   77.673856  00:00:00.000  \n",
       "2  146.929814  00:00:00.000  \n",
       "3  124.996900  00:00:00.000  \n",
       "4  158.799758  00:00:00.000  "
      ]
     },
     "execution_count": 8,
     "metadata": {},
     "output_type": "execute_result"
    }
   ],
   "source": [
    "print(df.shape)\n",
    "df.head()"
   ]
  },
  {
   "cell_type": "code",
   "execution_count": 19,
   "metadata": {},
   "outputs": [
    {
     "data": {
      "text/plain": [
       "count    1.082789e+06\n",
       "mean     1.586848e+03\n",
       "std      5.343995e+03\n",
       "min      3.247504e+01\n",
       "25%      6.502066e+02\n",
       "50%      9.560635e+02\n",
       "75%      1.318163e+03\n",
       "max      1.171874e+06\n",
       "Name: shape_area, dtype: float64"
      ]
     },
     "execution_count": 19,
     "metadata": {},
     "output_type": "execute_result"
    }
   ],
   "source": [
    "df.shape_area.describe()\n"
   ]
  },
  {
   "cell_type": "code",
   "execution_count": 20,
   "metadata": {
    "collapsed": true
   },
   "outputs": [],
   "source": [
    "df['logShapeArea'] = df['shape_area'].apply(lambda x: math.log(x) if x > 0 else 0)"
   ]
  },
  {
   "cell_type": "code",
   "execution_count": 22,
   "metadata": {},
   "outputs": [
    {
     "data": {
      "text/plain": [
       "<matplotlib.axes._subplots.AxesSubplot at 0x155008c18>"
      ]
     },
     "execution_count": 22,
     "metadata": {},
     "output_type": "execute_result"
    },
    {
     "data": {
      "image/png": "[encoded data removed]",
      "text/plain": [
       "<matplotlib.figure.Figure at 0x12494e9e8>"
      ]
     },
     "metadata": {},
     "output_type": "display_data"
    }
   ],
   "source": [
    "# plt.figure()\n",
    "df.logShapeArea.plot.hist()"
   ]
  },
  {
   "cell_type": "code",
   "execution_count": null,
   "metadata": {
    "collapsed": true
   },
   "outputs": [],
   "source": []
  }
 ],
 "metadata": {
  "kernelspec": {
   "display_name": "Python 3",
   "language": "python",
   "name": "python3"
  },
  "language_info": {
   "codemirror_mode": {
    "name": "ipython",
    "version": 3
   },
   "file_extension": ".py",
   "mimetype": "text/x-python",
   "name": "python",
   "nbconvert_exporter": "python",
   "pygments_lexer": "ipython3",
   "version": "3.6.3"
  },
  "toc": {
   "nav_menu": {},
   "number_sections": true,
   "sideBar": true,
   "skip_h1_title": true,
   "title_cell": "Table of Contents",
   "title_sidebar": "Contents",
   "toc_cell": true,
   "toc_position": {},
   "toc_section_display": true,
   "toc_window_display": false
  }
 },
 "nbformat": 4,
 "nbformat_minor": 2
}
