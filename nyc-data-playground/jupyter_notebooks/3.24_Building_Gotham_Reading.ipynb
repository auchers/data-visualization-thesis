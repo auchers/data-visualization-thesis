{
 "cells": [
  {
   "cell_type": "markdown",
   "metadata": {
    "toc": true
   },
   "source": [
    "<h1>Table of Contents<span class=\"tocSkip\"></span></h1>\n",
    "<div class=\"toc\"><ul class=\"toc-item\"><li><span><a href=\"#Building-Gotham:-civic-culture-and-public-policy-in-New-York-City,-1898-1938\" data-toc-modified-id=\"Building-Gotham:-civic-culture-and-public-policy-in-New-York-City,-1898-1938-1\"><span class=\"toc-item-num\">1&nbsp;&nbsp;</span><a href=\"https://books.google.com/books/about/Building_Gotham.html?id=u65PAAAAMAAJ\" target=\"_blank\"><strong>Building Gotham</strong></a>: civic culture and public policy in New York City, 1898-1938</a></span></li><li><span><a href=\"#Civic-Culture-of-Expertise\" data-toc-modified-id=\"Civic-Culture-of-Expertise-2\"><span class=\"toc-item-num\">2&nbsp;&nbsp;</span>Civic Culture of Expertise</a></span></li><li><span><a href=\"#City-Planning-and-Zoning\" data-toc-modified-id=\"City-Planning-and-Zoning-3\"><span class=\"toc-item-num\">3&nbsp;&nbsp;</span>City Planning and Zoning</a></span></li></ul></div>"
   ]
  },
  {
   "cell_type": "markdown",
   "metadata": {},
   "source": [
    "# External Reading and Inspiration \n",
    "### [**Building Gotham**](https://books.google.com/books/about/Building_Gotham.html?id=u65PAAAAMAAJ): civic culture and public policy in New York City, 1898-1938"
   ]
  },
  {
   "cell_type": "markdown",
   "metadata": {},
   "source": [
    "Last night during my data explorations, I decided to take a bit of a break from trying to find patterns solely in the data and I instead began to research the history of public works and zoning in New York City. I came across a book called ['Building Gotham'](https://books.google.com/books/about/Building_Gotham.html?id=u65PAAAAMAAJ) which discusses the evolution of the 'civil culture' in NYC.\n",
    "\n",
    "What immediately resonated for me with this book was that the introduction really echoed my expectation of New York (from earlier posts). This expectation that New York be the 'capital of capitalism,' epitomizing privatization and individual gains above concern for the greater community. \n",
    "\n",
    "Turns out I was right about that hunch. In 1898, when the greater New York City was created through the consolidation of 96 previously distinct governmental units, there was a very strong ethos for limiting the role of government and regulation. \n",
    "\n",
    "Keith D. Revell, the author of 'Building Gotham' writes, \n",
    "\n",
    ">\"New Yorkers had few cultural tools for conceptualizing community on this new scale. Like most Americans, they inherited from the nineteenth century a **civic culture of privatism** embedded in their institutions of collective decision making .... favored voluntary over compulsory commitments to the public welfare, **individual rights over collective needs**, parochial orientations to policy issues over more comprehensive perspectives\" (p. 4-5, emphasis added)\n",
    "\n",
    "However, as urban density rose and the problems associated with urbanization increased, people realized the need for consolidating power and vision for change. The main challenges at the time revolved around port efficiency, which at the time was the main commercial hub of New York, as well as population density. Downtown was filled with skyscrapers and sweatshops without much thought for the infrastructure needed to maintain these dense urban ecosystems.\n",
    "\n",
    "\n",
    "It was from communal problems, Revell writes, gave way to a shift in, what he refers to as, 'civic culture.'\n",
    "\n",
    ">\"In place of voluntarism, individualism and localism, the **civic culture of expertise** offered centralization (the expansion and coordination of regulatory and administrative powers), interdependence, and a **citywide perspective on urban problems.** (p.5, emphasis added)"
   ]
  },
  {
   "cell_type": "markdown",
   "metadata": {},
   "source": [
    "### Civic Culture of Expertise"
   ]
  },
  {
   "cell_type": "markdown",
   "metadata": {},
   "source": [
    "This civic culture of expertise that Revell discussed in 1963 takes on a new meaning for me in the current political context. With President Trump in power, and a generalized distrust of experts brewing throughout the country, I can't help but see this through different eyes. Living in this city, I am continually awed by how well this city functions and thrives, with all of its diversity and complexity. Much of this is due to the foresight of those \"experts\", who were able to take such a broad and comprehensive view of the city and understand the best ways to change things. \n",
    "\n",
    "That said, it also left a sphere of public life completely untouchable by the public as only the \"experts know best.\" I think this breeds a sort of apathy in the lay person as they expect someone with more expertise to take care of big problems, even if none of those really exist. \n",
    "\n",
    "What is happening right now however isn't much different. The only thing is instead of expertise, it is just money dictating who gets a seat at the table to make decisions. There is a growing feeling that those in power do not have the benefit of their constituents in mind and that leads to a very deep resentment across the board. \n",
    "\n",
    "There is much more to unpack here -- especially regarding power structures of our implicit (and sometimes explicit) intellectual hierarchies. This and the feeling that experts are looking down on the 'normal folk' with a patronizing (yet not fully informed) glance. There are also important facets regarding access to even gaining these types of expertise that excludes vast segments of the population from even having the opportunity to *work towards* getting a seat at the table."
   ]
  },
  {
   "cell_type": "markdown",
   "metadata": {},
   "source": [
    "### City Planning and Zoning\n",
    "\n",
    "Another part of this book that really struck me was the origin of zoning practices in NYC. Revell writes that it was only when the original eight-story Equitable Life Assurance Society Building on Broadway burned down in January 1912 that people began realizing the benefit of building-free land(p. 185).\n",
    "\n",
    "![](../assets/images/equitable-building-fire-Gotham-book.png)\n",
    "\n",
    "When I say people, I am being inaccurate -- presumably \"people\" have known this fact for all of time. However, it was only when this historic building burnt down that the owners of Chase National and Fourth National Banks \"thought the breath of fresh air and sunlight so improved their buildings that they proposed that the city buy the property to create a park\" (p. 185)."
   ]
  },
  {
   "cell_type": "markdown",
   "metadata": {},
   "source": [
    "Ultimately this did not happen -- you can see pictures of the newly built behemoth below, as well as a current picture from google street view looking up at the same building today. However, this brought to light the fact that New York had \"almost no legal authority to regulate building heights or shapes\" (p. 187)."
   ]
  },
  {
   "cell_type": "markdown",
   "metadata": {},
   "source": [
    "What was historic about this in my eyes was not the fact that someone looked up and realized that there is value to being able to see the sun -- that seems obviously trivial to me (even though it is debatable whether it should be so self-evident) -- rather, the significance of this event is that people with power (read: money) realized this as well and decided to do something about it. "
   ]
  },
  {
   "cell_type": "markdown",
   "metadata": {},
   "source": [
    "![](../assets/images/equitable-building-Gotham-book.png)\n",
    "The new building completed 15 years later"
   ]
  },
  {
   "cell_type": "markdown",
   "metadata": {},
   "source": [
    "![](../assets/images/equitable-building-google-street-view.png)"
   ]
  },
  {
   "cell_type": "markdown",
   "metadata": {},
   "source": [
    "I need to get the rest of this book from the library to read what happens to this afterwards since unfortunately google books only allows certain pages to be viewed. However, this time travel from past stories to modern buildings is absolutely fascinating to me. Especially when these buildings play such a critical role in how the rest of the city progressed. \n",
    "\n",
    "Perhaps it will be useful for this thesis to think about these pivotal buildings that shifted the nature of NY urban development over time. "
   ]
  },
  {
   "cell_type": "code",
   "execution_count": null,
   "metadata": {
    "collapsed": true
   },
   "outputs": [],
   "source": []
  }
 ],
 "metadata": {
  "kernelspec": {
   "display_name": "Python 3",
   "language": "python",
   "name": "python3"
  },
  "language_info": {
   "codemirror_mode": {
    "name": "ipython",
    "version": 3
   },
   "file_extension": ".py",
   "mimetype": "text/x-python",
   "name": "python",
   "nbconvert_exporter": "python",
   "pygments_lexer": "ipython3",
   "version": "3.6.3"
  },
  "toc": {
   "nav_menu": {},
   "number_sections": true,
   "sideBar": true,
   "skip_h1_title": true,
   "title_cell": "Table of Contents",
   "title_sidebar": "Contents",
   "toc_cell": true,
   "toc_position": {},
   "toc_section_display": true,
   "toc_window_display": false
  }
 },
 "nbformat": 4,
 "nbformat_minor": 2
}
