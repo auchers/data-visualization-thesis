{
 "cells": [
  {
   "cell_type": "markdown",
   "metadata": {
    "toc": true
   },
   "source": [
    "<h1>Table of Contents<span class=\"tocSkip\"></span></h1>\n",
    "<div class=\"toc\"><ul class=\"toc-item\"><li><span><a href=\"#Setup-MongoDB-Connection\" data-toc-modified-id=\"Setup-MongoDB-Connection-1\"><span class=\"toc-item-num\">1&nbsp;&nbsp;</span>Setup MongoDB Connection</a></span></li><li><span><a href=\"#Creating-a-dataframe-of-Manhattan-Buildings-(from-MongoDB)\" data-toc-modified-id=\"Creating-a-dataframe-of-Manhattan-Buildings-(from-MongoDB)-2\"><span class=\"toc-item-num\">2&nbsp;&nbsp;</span>Creating a dataframe of Manhattan Buildings (from MongoDB)</a></span></li><li><span><a href=\"#Data-Analysis\" data-toc-modified-id=\"Data-Analysis-3\"><span class=\"toc-item-num\">3&nbsp;&nbsp;</span>Data Analysis</a></span><ul class=\"toc-item\"><li><span><a href=\"#KMeans--Clustering\" data-toc-modified-id=\"KMeans--Clustering-3.1\"><span class=\"toc-item-num\">3.1&nbsp;&nbsp;</span>KMeans  Clustering</a></span></li><li><span><a href=\"#Try-Kmodes---to-cluster-on-categorical-variables\" data-toc-modified-id=\"Try-Kmodes---to-cluster-on-categorical-variables-3.2\"><span class=\"toc-item-num\">3.2&nbsp;&nbsp;</span>Try <a href=\"https://github.com/nicodv/kmodes\" target=\"_blank\">Kmodes</a> - to cluster on categorical variables</a></span></li><li><span><a href=\"#Guassian-Mixture-Models\" data-toc-modified-id=\"Guassian-Mixture-Models-3.3\"><span class=\"toc-item-num\">3.3&nbsp;&nbsp;</span>Guassian Mixture Models</a></span></li></ul></li></ul></div>"
   ]
  },
  {
   "cell_type": "markdown",
   "metadata": {},
   "source": [
    "# K-Means Clustering of NYC Pluto Data\n",
    "April 4th"
   ]
  },
  {
   "cell_type": "markdown",
   "metadata": {},
   "source": [
    "## Setup MongoDB Connection"
   ]
  },
  {
   "cell_type": "code",
   "execution_count": 1,
   "metadata": {
    "collapsed": true
   },
   "outputs": [],
   "source": [
    "#load python dependencies\n",
    "import pandas as pd\n",
    "import pprint as pp\n",
    "import json\n",
    "import string\n",
    "from bson import json_util, ObjectId\n",
    "from pandas.io.json import json_normalize\n",
    "import math"
   ]
  },
  {
   "cell_type": "code",
   "execution_count": 2,
   "metadata": {
    "collapsed": true
   },
   "outputs": [],
   "source": [
    "#connect to mongodb\n",
    "from pymongo import MongoClient\n",
    "client = MongoClient()\n",
    "db = client.thesis #thesis is the name of the DB we want to access"
   ]
  },
  {
   "cell_type": "code",
   "execution_count": 3,
   "metadata": {},
   "outputs": [
    {
     "data": {
      "text/plain": [
       "['buildings_with_lots',\n",
       " 'green_roofs',\n",
       " 'neighborhoods',\n",
       " 'buildings',\n",
       " 'buildings_lots_neighborhoods',\n",
       " 'lots_with_buffer']"
      ]
     },
     "execution_count": 3,
     "metadata": {},
     "output_type": "execute_result"
    }
   ],
   "source": [
    "# get the names of collections in MongoDB\n",
    "db.collection_names(include_system_collections=False)"
   ]
  },
  {
   "cell_type": "code",
   "execution_count": 8,
   "metadata": {
    "collapsed": true
   },
   "outputs": [],
   "source": [
    "buildings = db.buildings_lots_neighborhoods"
   ]
  },
  {
   "cell_type": "code",
   "execution_count": 13,
   "metadata": {
    "scrolled": true
   },
   "outputs": [
    {
     "name": "stdout",
     "output_type": "stream",
     "text": [
      "{'_id': ObjectId('5ae652d6ad23123b8e7dde05'),\n",
      " 'properties': {'Address': '454 EAST 160 STREET',\n",
      "                'AssessTot': 424800,\n",
      "                'BldgArea': 20580,\n",
      "                'BldgClass': 'C7',\n",
      "                'Block': 2381,\n",
      "                'BoroCode': 2,\n",
      "                'BuiltFAR': 4.2,\n",
      "                'CD': 203,\n",
      "                'CommFAR': 0,\n",
      "                'FacilFAR': 6.5,\n",
      "                'LandUse': '04',\n",
      "                'Landmark': None,\n",
      "                'LotArea': 4900,\n",
      "                'NTACode': 'BX35',\n",
      "                'NTAName': 'Morrisania-Melrose',\n",
      "                'NumFloors': 5,\n",
      "                'OwnerName': '454 EAST 160 ST REALT',\n",
      "                'ResidFAR': 3.44,\n",
      "                'UnitsRes': 28,\n",
      "                'UnitsTotal': 30,\n",
      "                'YearAlter1': 0,\n",
      "                'bin': 2001482,\n",
      "                'cnstrct_yr': 1929,\n",
      "                'date_lstmo': '2017/08/22',\n",
      "                'doitt_id': 225702,\n",
      "                'feat_code': 2100,\n",
      "                'groundelev': 41,\n",
      "                'heightroof': 48.94,\n",
      "                'lststatype': 'Constructed',\n",
      "                'name': None,\n",
      "                'shape_area': 3962.11733070956,\n",
      "                'shape_len': 273.75989419836,\n",
      "                'time_lstmo': '00:00:00.000'}}\n"
     ]
    }
   ],
   "source": [
    "# find one from Manhattan Borough\n",
    "pp.pprint(buildings.find_one({}, {'properties': 1}))"
   ]
  },
  {
   "cell_type": "code",
   "execution_count": 14,
   "metadata": {},
   "outputs": [
    {
     "ename": "SyntaxError",
     "evalue": "invalid syntax (<ipython-input-14-d9c61d5adc27>, line 3)",
     "output_type": "error",
     "traceback": [
      "\u001b[0;36m  File \u001b[0;32m\"<ipython-input-14-d9c61d5adc27>\"\u001b[0;36m, line \u001b[0;32m3\u001b[0m\n\u001b[0;31m    { $group : {_id : \"$NTAName\"}}\u001b[0m\n\u001b[0m      ^\u001b[0m\n\u001b[0;31mSyntaxError\u001b[0m\u001b[0;31m:\u001b[0m invalid syntax\n"
     ]
    }
   ],
   "source": [
    "# Aggregate by neighborhood\n",
    "neighborhood_group = buildings.aggregate([\n",
    "    { $group : {_id : \"$NTAName\"}}\n",
    "])\n"
   ]
  },
  {
   "cell_type": "code",
   "execution_count": 15,
   "metadata": {
    "collapsed": true
   },
   "outputs": [],
   "source": [
    "# Specify fields wanted\n",
    "fields = {\"properties.BoroCode\" : 1,\n",
    "            \"properties.Address\" : 1,\n",
    "              \"properties.BldgArea\" : 1,\n",
    "              \"properties.BldgClass\" : 1,\n",
    "              \"properties.LandUse\" : 1,\n",
    "              \"properties.NumFloors\" : 1,\n",
    "              \"properties.cnstrct_yr\": 1,\n",
    "              \"properties.CD\" : 1,\n",
    "              \"properties.NTAName\": 1, \n",
    "              \"properties.NTACode\": 1, \n",
    "              \"properties.heightroof\": 1, \n",
    "              \"properties.shape_area\": 1, \n",
    "         }"
   ]
  },
  {
   "cell_type": "code",
   "execution_count": 17,
   "metadata": {},
   "outputs": [
    {
     "data": {
      "text/plain": [
       "{'_id': ObjectId('5ae652d6ad23123b8e7dde05'),\n",
       " 'properties': {'Address': '454 EAST 160 STREET',\n",
       "  'BldgArea': 20580,\n",
       "  'BldgClass': 'C7',\n",
       "  'BoroCode': 2,\n",
       "  'CD': 203,\n",
       "  'LandUse': '04',\n",
       "  'NTACode': 'BX35',\n",
       "  'NTAName': 'Morrisania-Melrose',\n",
       "  'NumFloors': 5,\n",
       "  'cnstrct_yr': 1929,\n",
       "  'heightroof': 48.94,\n",
       "  'shape_area': 3962.11733070956}}"
      ]
     },
     "execution_count": 17,
     "metadata": {},
     "output_type": "execute_result"
    }
   ],
   "source": [
    "buildings.find_one({}, fields)"
   ]
  },
  {
   "cell_type": "markdown",
   "metadata": {},
   "source": [
    "## Creating a dataframe of Manhattan Buildings (from MongoDB)"
   ]
  },
  {
   "cell_type": "code",
   "execution_count": 18,
   "metadata": {
    "collapsed": true
   },
   "outputs": [],
   "source": [
    "def mongo_to_dataframe(mongo_data):\n",
    "\n",
    "        sanitized = json.loads(json_util.dumps(mongo_data))\n",
    "        \n",
    "        # unnests the json data\n",
    "        normalized = json_normalize(sanitized)\n",
    "        \n",
    "        #creates a data frame\n",
    "        df = pd.DataFrame(normalized)\n",
    "        \n",
    "        #cleans up column names\n",
    "        df.columns = df.columns.str.replace('properties.', '')\n",
    "\n",
    "        return df"
   ]
  },
  {
   "cell_type": "code",
   "execution_count": 20,
   "metadata": {},
   "outputs": [],
   "source": [
    "df = mongo_to_dataframe(buildings.find({}, fields))"
   ]
  },
  {
   "cell_type": "code",
   "execution_count": 21,
   "metadata": {},
   "outputs": [
    {
     "name": "stdout",
     "output_type": "stream",
     "text": [
      "(1070973, 13)\n"
     ]
    },
    {
     "data": {
      "text/html": [
       "<div>\n",
       "<style>\n",
       "    .dataframe thead tr:only-child th {\n",
       "        text-align: right;\n",
       "    }\n",
       "\n",
       "    .dataframe thead th {\n",
       "        text-align: left;\n",
       "    }\n",
       "\n",
       "    .dataframe tbody tr th {\n",
       "        vertical-align: top;\n",
       "    }\n",
       "</style>\n",
       "<table border=\"1\" class=\"dataframe\">\n",
       "  <thead>\n",
       "    <tr style=\"text-align: right;\">\n",
       "      <th></th>\n",
       "      <th>_id.$oid</th>\n",
       "      <th>Address</th>\n",
       "      <th>BldgArea</th>\n",
       "      <th>BldgClass</th>\n",
       "      <th>BoroCode</th>\n",
       "      <th>CD</th>\n",
       "      <th>LandUse</th>\n",
       "      <th>NTACode</th>\n",
       "      <th>NTAName</th>\n",
       "      <th>NumFloors</th>\n",
       "      <th>cnstrct_yr</th>\n",
       "      <th>heightroof</th>\n",
       "      <th>shape_area</th>\n",
       "    </tr>\n",
       "  </thead>\n",
       "  <tbody>\n",
       "    <tr>\n",
       "      <th>0</th>\n",
       "      <td>5ae652d6ad23123b8e7dde05</td>\n",
       "      <td>454 EAST 160 STREET</td>\n",
       "      <td>20580</td>\n",
       "      <td>C7</td>\n",
       "      <td>2</td>\n",
       "      <td>203</td>\n",
       "      <td>04</td>\n",
       "      <td>BX35</td>\n",
       "      <td>Morrisania-Melrose</td>\n",
       "      <td>5.0</td>\n",
       "      <td>1929</td>\n",
       "      <td>48.940000</td>\n",
       "      <td>3962.117331</td>\n",
       "    </tr>\n",
       "    <tr>\n",
       "      <th>1</th>\n",
       "      <td>5ae652d6ad23123b8e7dde07</td>\n",
       "      <td>169-18 PIDGEON MEADOW ROAD</td>\n",
       "      <td>1275</td>\n",
       "      <td>A5</td>\n",
       "      <td>4</td>\n",
       "      <td>407</td>\n",
       "      <td>01</td>\n",
       "      <td>QN52</td>\n",
       "      <td>East Flushing</td>\n",
       "      <td>2.0</td>\n",
       "      <td>1940</td>\n",
       "      <td>26.330000</td>\n",
       "      <td>811.813398</td>\n",
       "    </tr>\n",
       "    <tr>\n",
       "      <th>2</th>\n",
       "      <td>5ae652d6ad23123b8e7dde08</td>\n",
       "      <td>45-72 166 STREET</td>\n",
       "      <td>1336</td>\n",
       "      <td>A1</td>\n",
       "      <td>4</td>\n",
       "      <td>407</td>\n",
       "      <td>01</td>\n",
       "      <td>QN52</td>\n",
       "      <td>East Flushing</td>\n",
       "      <td>2.0</td>\n",
       "      <td>1935</td>\n",
       "      <td>11.367346</td>\n",
       "      <td>252.580554</td>\n",
       "    </tr>\n",
       "    <tr>\n",
       "      <th>3</th>\n",
       "      <td>5ae652d6ad23123b8e7dde09</td>\n",
       "      <td>45-72 166 STREET</td>\n",
       "      <td>1336</td>\n",
       "      <td>A1</td>\n",
       "      <td>4</td>\n",
       "      <td>407</td>\n",
       "      <td>01</td>\n",
       "      <td>QN52</td>\n",
       "      <td>East Flushing</td>\n",
       "      <td>2.0</td>\n",
       "      <td>1935</td>\n",
       "      <td>25.967302</td>\n",
       "      <td>789.787200</td>\n",
       "    </tr>\n",
       "    <tr>\n",
       "      <th>4</th>\n",
       "      <td>5ae652d6ad23123b8e7dde0a</td>\n",
       "      <td>43-43 SMART STREET</td>\n",
       "      <td>2536</td>\n",
       "      <td>B2</td>\n",
       "      <td>4</td>\n",
       "      <td>407</td>\n",
       "      <td>01</td>\n",
       "      <td>QN52</td>\n",
       "      <td>East Flushing</td>\n",
       "      <td>3.0</td>\n",
       "      <td>1965</td>\n",
       "      <td>27.140000</td>\n",
       "      <td>1011.676306</td>\n",
       "    </tr>\n",
       "  </tbody>\n",
       "</table>\n",
       "</div>"
      ],
      "text/plain": [
       "                   _id.$oid                     Address  BldgArea BldgClass  \\\n",
       "0  5ae652d6ad23123b8e7dde05         454 EAST 160 STREET     20580        C7   \n",
       "1  5ae652d6ad23123b8e7dde07  169-18 PIDGEON MEADOW ROAD      1275        A5   \n",
       "2  5ae652d6ad23123b8e7dde08            45-72 166 STREET      1336        A1   \n",
       "3  5ae652d6ad23123b8e7dde09            45-72 166 STREET      1336        A1   \n",
       "4  5ae652d6ad23123b8e7dde0a          43-43 SMART STREET      2536        B2   \n",
       "\n",
       "   BoroCode   CD LandUse NTACode             NTAName  NumFloors  cnstrct_yr  \\\n",
       "0         2  203      04    BX35  Morrisania-Melrose        5.0        1929   \n",
       "1         4  407      01    QN52       East Flushing        2.0        1940   \n",
       "2         4  407      01    QN52       East Flushing        2.0        1935   \n",
       "3         4  407      01    QN52       East Flushing        2.0        1935   \n",
       "4         4  407      01    QN52       East Flushing        3.0        1965   \n",
       "\n",
       "   heightroof   shape_area  \n",
       "0   48.940000  3962.117331  \n",
       "1   26.330000   811.813398  \n",
       "2   11.367346   252.580554  \n",
       "3   25.967302   789.787200  \n",
       "4   27.140000  1011.676306  "
      ]
     },
     "execution_count": 21,
     "metadata": {},
     "output_type": "execute_result"
    }
   ],
   "source": [
    "print(df.shape)\n",
    "df.head()"
   ]
  },
  {
   "cell_type": "markdown",
   "metadata": {
    "collapsed": true
   },
   "source": [
    "## Data Analysis"
   ]
  },
  {
   "cell_type": "code",
   "execution_count": 22,
   "metadata": {
    "collapsed": true
   },
   "outputs": [],
   "source": [
    "%matplotlib inline\n",
    "import matplotlib.pyplot as plt\n",
    "import seaborn as sns; sns.set()  # for plot styling\n",
    "import numpy as np\n",
    "import re"
   ]
  },
  {
   "cell_type": "code",
   "execution_count": 23,
   "metadata": {},
   "outputs": [
    {
     "data": {
      "text/plain": [
       "['_id.$oid',\n",
       " 'Address',\n",
       " 'BldgArea',\n",
       " 'BldgClass',\n",
       " 'BoroCode',\n",
       " 'CD',\n",
       " 'LandUse',\n",
       " 'NTACode',\n",
       " 'NTAName',\n",
       " 'NumFloors',\n",
       " 'cnstrct_yr',\n",
       " 'heightroof',\n",
       " 'shape_area']"
      ]
     },
     "execution_count": 23,
     "metadata": {},
     "output_type": "execute_result"
    }
   ],
   "source": [
    "list(df)"
   ]
  },
  {
   "cell_type": "code",
   "execution_count": 43,
   "metadata": {},
   "outputs": [],
   "source": [
    "aggregations = {\n",
    "    \"_id.$oid\": \"count\", \n",
    "    'shape_area': [sum, \"mean\", \"median\"],\n",
    "    'heightroof': [\"mean\", \"median\", max, min],\n",
    "    'NumFloors': [\"mean\", \"median\", max, min],\n",
    "}"
   ]
  },
  {
   "cell_type": "code",
   "execution_count": 44,
   "metadata": {},
   "outputs": [],
   "source": [
    "neighborhoods = df.groupby(['NTAName']).agg(aggregations).sort()"
   ]
  },
  {
   "cell_type": "code",
   "execution_count": null,
   "metadata": {
    "scrolled": false
   },
   "outputs": [],
   "source": [
    "neighborhoods.head()"
   ]
  },
  {
   "cell_type": "code",
   "execution_count": 48,
   "metadata": {},
   "outputs": [
    {
     "data": {
      "text/plain": [
       "<matplotlib.axes._subplots.AxesSubplot at 0x1544cb198>"
      ]
     },
     "execution_count": 48,
     "metadata": {},
     "output_type": "execute_result"
    },
    {
     "data": {
      "image/png": "[encoded data removed]",
      "text/plain": [
       "<Figure size 432x288 with 1 Axes>"
      ]
     },
     "metadata": {},
     "output_type": "display_data"
    }
   ],
   "source": [
    "sns.countplot(x='NTAName', data=df, palette =\"Greens_d\")"
   ]
  },
  {
   "cell_type": "code",
   "execution_count": null,
   "metadata": {},
   "outputs": [],
   "source": [
    "df.sum()"
   ]
  },
  {
   "cell_type": "code",
   "execution_count": null,
   "metadata": {
    "collapsed": true
   },
   "outputs": [],
   "source": []
  }
 ],
 "metadata": {
  "kernelspec": {
   "display_name": "Python 3",
   "language": "python",
   "name": "python3"
  },
  "language_info": {
   "codemirror_mode": {
    "name": "ipython",
    "version": 3
   },
   "file_extension": ".py",
   "mimetype": "text/x-python",
   "name": "python",
   "nbconvert_exporter": "python",
   "pygments_lexer": "ipython3",
   "version": "3.6.4"
  },
  "toc": {
   "nav_menu": {},
   "number_sections": true,
   "sideBar": true,
   "skip_h1_title": true,
   "title_cell": "Table of Contents",
   "title_sidebar": "Contents",
   "toc_cell": true,
   "toc_position": {},
   "toc_section_display": true,
   "toc_window_display": false
  }
 },
 "nbformat": 4,
 "nbformat_minor": 2
}
